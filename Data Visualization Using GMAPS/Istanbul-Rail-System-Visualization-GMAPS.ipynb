{
 "cells": [
  {
   "cell_type": "markdown",
   "id": "0698fee4",
   "metadata": {},
   "source": [
    "# ISTANBUL RAIL SYSTEM PASSENGER DATA VISUALIZATION USING GMAPS\n",
    "\n",
    "#### Author: Ediz Anıl Özkaya\n",
    "\n",
    "http://edizozkaya.com\n",
    "\n",
    "LinkedIn: https://www.linkedin.com/in/ediz-anıl-özkaya-863bb6161\n",
    "\n",
    "GitHub: https://github.com/EdizAnil"
   ]
  },
  {
   "cell_type": "markdown",
   "id": "4e93c485",
   "metadata": {},
   "source": [
    "# Introduction\n",
    "In this notebook, we will create a weighted heatmap of passenger counts for each Rail System Station in Istanbul Turkey with gmaps library to visualize the passenger density. Gmaps library enables us to plot data on maps using different techniques to create meaningful visualizations."
   ]
  },
  {
   "cell_type": "markdown",
   "id": "8ae36be7",
   "metadata": {},
   "source": [
    "## Library Imports"
   ]
  },
  {
   "cell_type": "code",
   "execution_count": 1,
   "id": "b5c6a8f5",
   "metadata": {},
   "outputs": [],
   "source": [
    "# We import numpy and pandas for data manupilation\n",
    "import numpy as np\n",
    "import pandas as pd\n",
    "\n",
    "#Matplotlib and seaborn for visualizations\n",
    "import matplotlib.pyplot as plt\n",
    "import seaborn as sns\n",
    "\n",
    "#We will import some other libraries down below in visualization section.\n"
   ]
  },
  {
   "cell_type": "markdown",
   "id": "85013db0",
   "metadata": {},
   "source": [
    "## Dataset\n",
    "The dataset is downloaded from IBB OPEN DATA PORTAL (Istanbul Metropolitian Municipality) and is open to public. The data is updated annually and it has dictionary for each column in both English and Turkish which is accessible from the given link below.\n",
    "The dataset includes the monthly passage and passenger counts for each rail system station in Istanbul including metro lines, tram lines, etc. "
   ]
  },
  {
   "cell_type": "markdown",
   "id": "16d5e7dc",
   "metadata": {},
   "source": [
    "First, we read the csv file downloaded from https://data.ibb.gov.tr/en/dataset/rayli-sistemler-istasyon-bazli-yolcu-ve-yolculuk-sayilari."
   ]
  },
  {
   "cell_type": "code",
   "execution_count": 2,
   "id": "187194fb",
   "metadata": {},
   "outputs": [],
   "source": [
    "df = pd.read_csv(\"Rail Systems Station Based Passenger and Journey Numbers.csv\")"
   ]
  },
  {
   "cell_type": "code",
   "execution_count": 3,
   "id": "147c7555",
   "metadata": {},
   "outputs": [
    {
     "data": {
      "text/html": [
       "<div>\n",
       "<style scoped>\n",
       "    .dataframe tbody tr th:only-of-type {\n",
       "        vertical-align: middle;\n",
       "    }\n",
       "\n",
       "    .dataframe tbody tr th {\n",
       "        vertical-align: top;\n",
       "    }\n",
       "\n",
       "    .dataframe thead th {\n",
       "        text-align: right;\n",
       "    }\n",
       "</style>\n",
       "<table border=\"1\" class=\"dataframe\">\n",
       "  <thead>\n",
       "    <tr style=\"text-align: right;\">\n",
       "      <th></th>\n",
       "      <th>_id</th>\n",
       "      <th>PASSAGE_COUNT</th>\n",
       "      <th>PASSENGER_COUNT</th>\n",
       "      <th>transaction_Month</th>\n",
       "      <th>transaction_Year</th>\n",
       "      <th>LINE</th>\n",
       "      <th>STATION_NAME</th>\n",
       "      <th>STATION_NUMBER</th>\n",
       "      <th>TOWN</th>\n",
       "      <th>LATITUDE</th>\n",
       "      <th>LONGITUDE</th>\n",
       "    </tr>\n",
       "  </thead>\n",
       "  <tbody>\n",
       "    <tr>\n",
       "      <th>0</th>\n",
       "      <td>1</td>\n",
       "      <td>453528</td>\n",
       "      <td>156555</td>\n",
       "      <td>1</td>\n",
       "      <td>2019</td>\n",
       "      <td>AKSARAY-HAVALİMANI</td>\n",
       "      <td>BAGCILAR MEYDAN</td>\n",
       "      <td>BGM-BGM</td>\n",
       "      <td>Bağcılar</td>\n",
       "      <td>41.034500</td>\n",
       "      <td>28.856583</td>\n",
       "    </tr>\n",
       "    <tr>\n",
       "      <th>1</th>\n",
       "      <td>2</td>\n",
       "      <td>278544</td>\n",
       "      <td>127450</td>\n",
       "      <td>1</td>\n",
       "      <td>2019</td>\n",
       "      <td>AKSARAY-HAVALİMANI</td>\n",
       "      <td>BAHCELIEVLER</td>\n",
       "      <td>BAH-BAH</td>\n",
       "      <td>Bahçelievler</td>\n",
       "      <td>40.995667</td>\n",
       "      <td>28.863556</td>\n",
       "    </tr>\n",
       "    <tr>\n",
       "      <th>2</th>\n",
       "      <td>3</td>\n",
       "      <td>282941</td>\n",
       "      <td>136184</td>\n",
       "      <td>1</td>\n",
       "      <td>2019</td>\n",
       "      <td>AKSARAY-HAVALİMANI</td>\n",
       "      <td>BAKIRKOY</td>\n",
       "      <td>BKK-BKK</td>\n",
       "      <td>Bakırköy</td>\n",
       "      <td>40.996583</td>\n",
       "      <td>28.874417</td>\n",
       "    </tr>\n",
       "    <tr>\n",
       "      <th>3</th>\n",
       "      <td>4</td>\n",
       "      <td>146589</td>\n",
       "      <td>56965</td>\n",
       "      <td>1</td>\n",
       "      <td>2019</td>\n",
       "      <td>AKSARAY-HAVALİMANI</td>\n",
       "      <td>IDTM</td>\n",
       "      <td>DTM-DTM</td>\n",
       "      <td>Bakırköy</td>\n",
       "      <td>40.986556</td>\n",
       "      <td>28.828417</td>\n",
       "    </tr>\n",
       "    <tr>\n",
       "      <th>4</th>\n",
       "      <td>5</td>\n",
       "      <td>982793</td>\n",
       "      <td>397500</td>\n",
       "      <td>1</td>\n",
       "      <td>2019</td>\n",
       "      <td>AKSARAY-HAVALİMANI</td>\n",
       "      <td>KARTALTEPE</td>\n",
       "      <td>KRP-KRP</td>\n",
       "      <td>Bayrampaşa</td>\n",
       "      <td>41.048500</td>\n",
       "      <td>28.895778</td>\n",
       "    </tr>\n",
       "    <tr>\n",
       "      <th>...</th>\n",
       "      <td>...</td>\n",
       "      <td>...</td>\n",
       "      <td>...</td>\n",
       "      <td>...</td>\n",
       "      <td>...</td>\n",
       "      <td>...</td>\n",
       "      <td>...</td>\n",
       "      <td>...</td>\n",
       "      <td>...</td>\n",
       "      <td>...</td>\n",
       "      <td>...</td>\n",
       "    </tr>\n",
       "    <tr>\n",
       "      <th>5859</th>\n",
       "      <td>5860</td>\n",
       "      <td>47856</td>\n",
       "      <td>21777</td>\n",
       "      <td>12</td>\n",
       "      <td>2020</td>\n",
       "      <td>TAKSİM-KABATAŞ FUNİKULERİ</td>\n",
       "      <td>KABATAS</td>\n",
       "      <td>KTS-TKS</td>\n",
       "      <td>Beyoğlu</td>\n",
       "      <td>41.034056</td>\n",
       "      <td>28.992028</td>\n",
       "    </tr>\n",
       "    <tr>\n",
       "      <th>5860</th>\n",
       "      <td>5861</td>\n",
       "      <td>35136</td>\n",
       "      <td>17505</td>\n",
       "      <td>12</td>\n",
       "      <td>2020</td>\n",
       "      <td>TAKSİM-KABATAŞ FUNİKULERİ</td>\n",
       "      <td>TAKSIM</td>\n",
       "      <td>TAK-KBT</td>\n",
       "      <td>Beyoğlu</td>\n",
       "      <td>41.036750</td>\n",
       "      <td>28.986444</td>\n",
       "    </tr>\n",
       "    <tr>\n",
       "      <th>5861</th>\n",
       "      <td>5862</td>\n",
       "      <td>146791</td>\n",
       "      <td>40586</td>\n",
       "      <td>12</td>\n",
       "      <td>2020</td>\n",
       "      <td>ÜSKÜDAR ÇEKMEKÖY METROSU</td>\n",
       "      <td>Bulgurlu</td>\n",
       "      <td>BLG-BLG</td>\n",
       "      <td>Üsküdar</td>\n",
       "      <td>41.016583</td>\n",
       "      <td>29.075444</td>\n",
       "    </tr>\n",
       "    <tr>\n",
       "      <th>5862</th>\n",
       "      <td>5863</td>\n",
       "      <td>67563</td>\n",
       "      <td>23072</td>\n",
       "      <td>12</td>\n",
       "      <td>2020</td>\n",
       "      <td>ÜSKÜDAR ÇEKMEKÖY METROSU</td>\n",
       "      <td>IHLAMUR KUYU</td>\n",
       "      <td>IKI-IKI</td>\n",
       "      <td>Ümraniye</td>\n",
       "      <td>41.019694</td>\n",
       "      <td>29.130694</td>\n",
       "    </tr>\n",
       "    <tr>\n",
       "      <th>5863</th>\n",
       "      <td>5864</td>\n",
       "      <td>6754</td>\n",
       "      <td>3983</td>\n",
       "      <td>12</td>\n",
       "      <td>2020</td>\n",
       "      <td>İETT NOSTALJİK TRAMVAY</td>\n",
       "      <td>NaN</td>\n",
       "      <td>NaN</td>\n",
       "      <td>Beyoğlu</td>\n",
       "      <td>NaN</td>\n",
       "      <td>NaN</td>\n",
       "    </tr>\n",
       "  </tbody>\n",
       "</table>\n",
       "<p>5864 rows × 11 columns</p>\n",
       "</div>"
      ],
      "text/plain": [
       "       _id  PASSAGE_COUNT  PASSENGER_COUNT  transaction_Month  \\\n",
       "0        1         453528           156555                  1   \n",
       "1        2         278544           127450                  1   \n",
       "2        3         282941           136184                  1   \n",
       "3        4         146589            56965                  1   \n",
       "4        5         982793           397500                  1   \n",
       "...    ...            ...              ...                ...   \n",
       "5859  5860          47856            21777                 12   \n",
       "5860  5861          35136            17505                 12   \n",
       "5861  5862         146791            40586                 12   \n",
       "5862  5863          67563            23072                 12   \n",
       "5863  5864           6754             3983                 12   \n",
       "\n",
       "      transaction_Year                       LINE     STATION_NAME  \\\n",
       "0                 2019         AKSARAY-HAVALİMANI  BAGCILAR MEYDAN   \n",
       "1                 2019         AKSARAY-HAVALİMANI     BAHCELIEVLER   \n",
       "2                 2019         AKSARAY-HAVALİMANI         BAKIRKOY   \n",
       "3                 2019         AKSARAY-HAVALİMANI             IDTM   \n",
       "4                 2019         AKSARAY-HAVALİMANI       KARTALTEPE   \n",
       "...                ...                        ...              ...   \n",
       "5859              2020  TAKSİM-KABATAŞ FUNİKULERİ          KABATAS   \n",
       "5860              2020  TAKSİM-KABATAŞ FUNİKULERİ           TAKSIM   \n",
       "5861              2020   ÜSKÜDAR ÇEKMEKÖY METROSU         Bulgurlu   \n",
       "5862              2020   ÜSKÜDAR ÇEKMEKÖY METROSU     IHLAMUR KUYU   \n",
       "5863              2020     İETT NOSTALJİK TRAMVAY              NaN   \n",
       "\n",
       "     STATION_NUMBER          TOWN   LATITUDE  LONGITUDE  \n",
       "0           BGM-BGM      Bağcılar  41.034500  28.856583  \n",
       "1           BAH-BAH  Bahçelievler  40.995667  28.863556  \n",
       "2           BKK-BKK      Bakırköy  40.996583  28.874417  \n",
       "3           DTM-DTM      Bakırköy  40.986556  28.828417  \n",
       "4           KRP-KRP    Bayrampaşa  41.048500  28.895778  \n",
       "...             ...           ...        ...        ...  \n",
       "5859        KTS-TKS       Beyoğlu  41.034056  28.992028  \n",
       "5860        TAK-KBT       Beyoğlu  41.036750  28.986444  \n",
       "5861        BLG-BLG       Üsküdar  41.016583  29.075444  \n",
       "5862        IKI-IKI      Ümraniye  41.019694  29.130694  \n",
       "5863            NaN       Beyoğlu        NaN        NaN  \n",
       "\n",
       "[5864 rows x 11 columns]"
      ]
     },
     "execution_count": 3,
     "metadata": {},
     "output_type": "execute_result"
    }
   ],
   "source": [
    "df"
   ]
  },
  {
   "cell_type": "code",
   "execution_count": 4,
   "id": "54c6a5e3",
   "metadata": {
    "scrolled": true
   },
   "outputs": [
    {
     "name": "stdout",
     "output_type": "stream",
     "text": [
      "<class 'pandas.core.frame.DataFrame'>\n",
      "RangeIndex: 5864 entries, 0 to 5863\n",
      "Data columns (total 11 columns):\n",
      " #   Column             Non-Null Count  Dtype  \n",
      "---  ------             --------------  -----  \n",
      " 0   _id                5864 non-null   int64  \n",
      " 1   PASSAGE_COUNT      5864 non-null   int64  \n",
      " 2   PASSENGER_COUNT    5864 non-null   int64  \n",
      " 3   transaction_Month  5864 non-null   int64  \n",
      " 4   transaction_Year   5864 non-null   int64  \n",
      " 5   LINE               5864 non-null   object \n",
      " 6   STATION_NAME       5819 non-null   object \n",
      " 7   STATION_NUMBER     5819 non-null   object \n",
      " 8   TOWN               5780 non-null   object \n",
      " 9   LATITUDE           5703 non-null   float64\n",
      " 10  LONGITUDE          5703 non-null   float64\n",
      "dtypes: float64(2), int64(5), object(4)\n",
      "memory usage: 504.1+ KB\n"
     ]
    }
   ],
   "source": [
    "df.info()"
   ]
  },
  {
   "cell_type": "markdown",
   "id": "888ce262",
   "metadata": {},
   "source": [
    "As we can see above, the dataset has 5864 entries and have some missing values."
   ]
  },
  {
   "cell_type": "markdown",
   "id": "e8813125",
   "metadata": {},
   "source": [
    "## Data Manipulation\n",
    "In this section we will clean the data, get rid of the missing values and try to adapt the data for our goal."
   ]
  },
  {
   "cell_type": "code",
   "execution_count": 5,
   "id": "02caa9fe",
   "metadata": {
    "scrolled": false
   },
   "outputs": [
    {
     "data": {
      "text/plain": [
       "_id                    0\n",
       "PASSAGE_COUNT          0\n",
       "PASSENGER_COUNT        0\n",
       "transaction_Month      0\n",
       "transaction_Year       0\n",
       "LINE                   0\n",
       "STATION_NAME          45\n",
       "STATION_NUMBER        45\n",
       "TOWN                  84\n",
       "LATITUDE             161\n",
       "LONGITUDE            161\n",
       "dtype: int64"
      ]
     },
     "execution_count": 5,
     "metadata": {},
     "output_type": "execute_result"
    }
   ],
   "source": [
    "df.isnull().sum()"
   ]
  },
  {
   "cell_type": "markdown",
   "id": "9a698671",
   "metadata": {},
   "source": [
    "We have to have latitude and longitude columns in order to visualize the data on a map and we can not interpret it by getting the mean of other entries. Lets get rid of the missing values for LATITUDE column and see if it is enough to get rid of every missing value."
   ]
  },
  {
   "cell_type": "code",
   "execution_count": 6,
   "id": "c97b3ca6",
   "metadata": {},
   "outputs": [
    {
     "data": {
      "text/plain": [
       "_id                  0\n",
       "PASSAGE_COUNT        0\n",
       "PASSENGER_COUNT      0\n",
       "transaction_Month    0\n",
       "transaction_Year     0\n",
       "LINE                 0\n",
       "STATION_NAME         0\n",
       "STATION_NUMBER       0\n",
       "TOWN                 0\n",
       "LATITUDE             0\n",
       "LONGITUDE            0\n",
       "dtype: int64"
      ]
     },
     "execution_count": 6,
     "metadata": {},
     "output_type": "execute_result"
    }
   ],
   "source": [
    "df.dropna(subset=[\"LATITUDE\"]).isnull().sum()"
   ]
  },
  {
   "cell_type": "markdown",
   "id": "7f8cf4ea",
   "metadata": {},
   "source": [
    "Positive! \n",
    "Dropping the missing values on \"LATITUDE\" column solves our problem and gets rid of every single missing value. Now we can apply it safely."
   ]
  },
  {
   "cell_type": "code",
   "execution_count": 7,
   "id": "38bde9f3",
   "metadata": {},
   "outputs": [],
   "source": [
    "df = df.dropna(subset=[\"LATITUDE\"])"
   ]
  },
  {
   "cell_type": "code",
   "execution_count": 8,
   "id": "361ebcd6",
   "metadata": {
    "scrolled": true
   },
   "outputs": [
    {
     "name": "stdout",
     "output_type": "stream",
     "text": [
      "<class 'pandas.core.frame.DataFrame'>\n",
      "Int64Index: 5703 entries, 0 to 5862\n",
      "Data columns (total 11 columns):\n",
      " #   Column             Non-Null Count  Dtype  \n",
      "---  ------             --------------  -----  \n",
      " 0   _id                5703 non-null   int64  \n",
      " 1   PASSAGE_COUNT      5703 non-null   int64  \n",
      " 2   PASSENGER_COUNT    5703 non-null   int64  \n",
      " 3   transaction_Month  5703 non-null   int64  \n",
      " 4   transaction_Year   5703 non-null   int64  \n",
      " 5   LINE               5703 non-null   object \n",
      " 6   STATION_NAME       5703 non-null   object \n",
      " 7   STATION_NUMBER     5703 non-null   object \n",
      " 8   TOWN               5703 non-null   object \n",
      " 9   LATITUDE           5703 non-null   float64\n",
      " 10  LONGITUDE          5703 non-null   float64\n",
      "dtypes: float64(2), int64(5), object(4)\n",
      "memory usage: 534.7+ KB\n"
     ]
    }
   ],
   "source": [
    "df.info()"
   ]
  },
  {
   "cell_type": "markdown",
   "id": "98b6563f",
   "metadata": {},
   "source": [
    "For our purpose we are going to get the sum of the passenger counts all year arond for each station. As one specific latitude and longitude corresponds to a single station we dont need to consider the STATION_NAME or STATION_NUMBER column as we are only going to plot the density on the map without station names. "
   ]
  },
  {
   "cell_type": "code",
   "execution_count": 9,
   "id": "2db342c4",
   "metadata": {},
   "outputs": [],
   "source": [
    "df = df.groupby([\"LATITUDE\",\"LONGITUDE\"]).agg({\"PASSENGER_COUNT\": sum})"
   ]
  },
  {
   "cell_type": "code",
   "execution_count": 10,
   "id": "8f206e4a",
   "metadata": {},
   "outputs": [
    {
     "data": {
      "text/html": [
       "<div>\n",
       "<style scoped>\n",
       "    .dataframe tbody tr th:only-of-type {\n",
       "        vertical-align: middle;\n",
       "    }\n",
       "\n",
       "    .dataframe tbody tr th {\n",
       "        vertical-align: top;\n",
       "    }\n",
       "\n",
       "    .dataframe thead th {\n",
       "        text-align: right;\n",
       "    }\n",
       "</style>\n",
       "<table border=\"1\" class=\"dataframe\">\n",
       "  <thead>\n",
       "    <tr style=\"text-align: right;\">\n",
       "      <th></th>\n",
       "      <th></th>\n",
       "      <th>PASSENGER_COUNT</th>\n",
       "    </tr>\n",
       "    <tr>\n",
       "      <th>LATITUDE</th>\n",
       "      <th>LONGITUDE</th>\n",
       "      <th></th>\n",
       "    </tr>\n",
       "  </thead>\n",
       "  <tbody>\n",
       "    <tr>\n",
       "      <th>40.783806</th>\n",
       "      <th>29.411556</th>\n",
       "      <td>1606964</td>\n",
       "    </tr>\n",
       "    <tr>\n",
       "      <th>40.784139</th>\n",
       "      <th>29.409500</th>\n",
       "      <td>284876</td>\n",
       "    </tr>\n",
       "    <tr>\n",
       "      <th>40.792333</th>\n",
       "      <th>29.391806</th>\n",
       "      <td>199346</td>\n",
       "    </tr>\n",
       "    <tr>\n",
       "      <th>40.799333</th>\n",
       "      <th>29.379972</th>\n",
       "      <td>595661</td>\n",
       "    </tr>\n",
       "    <tr>\n",
       "      <th>40.808556</th>\n",
       "      <th>29.363944</th>\n",
       "      <td>473093</td>\n",
       "    </tr>\n",
       "  </tbody>\n",
       "</table>\n",
       "</div>"
      ],
      "text/plain": [
       "                     PASSENGER_COUNT\n",
       "LATITUDE  LONGITUDE                 \n",
       "40.783806 29.411556          1606964\n",
       "40.784139 29.409500           284876\n",
       "40.792333 29.391806           199346\n",
       "40.799333 29.379972           595661\n",
       "40.808556 29.363944           473093"
      ]
     },
     "execution_count": 10,
     "metadata": {},
     "output_type": "execute_result"
    }
   ],
   "source": [
    "df.head()"
   ]
  },
  {
   "cell_type": "markdown",
   "id": "20e1a9cc",
   "metadata": {},
   "source": [
    "This is an multi index dataframe. However we do not need multi indexing for our purpose and it can make our job a little more complex when we try to use gmaps. So we can basically use reset_index() to get single level indexing."
   ]
  },
  {
   "cell_type": "code",
   "execution_count": 11,
   "id": "44de2d08",
   "metadata": {},
   "outputs": [],
   "source": [
    "df = df.reset_index()"
   ]
  },
  {
   "cell_type": "code",
   "execution_count": 12,
   "id": "383dab49",
   "metadata": {},
   "outputs": [
    {
     "data": {
      "text/html": [
       "<div>\n",
       "<style scoped>\n",
       "    .dataframe tbody tr th:only-of-type {\n",
       "        vertical-align: middle;\n",
       "    }\n",
       "\n",
       "    .dataframe tbody tr th {\n",
       "        vertical-align: top;\n",
       "    }\n",
       "\n",
       "    .dataframe thead th {\n",
       "        text-align: right;\n",
       "    }\n",
       "</style>\n",
       "<table border=\"1\" class=\"dataframe\">\n",
       "  <thead>\n",
       "    <tr style=\"text-align: right;\">\n",
       "      <th></th>\n",
       "      <th>LATITUDE</th>\n",
       "      <th>LONGITUDE</th>\n",
       "      <th>PASSENGER_COUNT</th>\n",
       "    </tr>\n",
       "  </thead>\n",
       "  <tbody>\n",
       "    <tr>\n",
       "      <th>0</th>\n",
       "      <td>40.783806</td>\n",
       "      <td>29.411556</td>\n",
       "      <td>1606964</td>\n",
       "    </tr>\n",
       "    <tr>\n",
       "      <th>1</th>\n",
       "      <td>40.784139</td>\n",
       "      <td>29.409500</td>\n",
       "      <td>284876</td>\n",
       "    </tr>\n",
       "    <tr>\n",
       "      <th>2</th>\n",
       "      <td>40.792333</td>\n",
       "      <td>29.391806</td>\n",
       "      <td>199346</td>\n",
       "    </tr>\n",
       "    <tr>\n",
       "      <th>3</th>\n",
       "      <td>40.799333</td>\n",
       "      <td>29.379972</td>\n",
       "      <td>595661</td>\n",
       "    </tr>\n",
       "    <tr>\n",
       "      <th>4</th>\n",
       "      <td>40.808556</td>\n",
       "      <td>29.363944</td>\n",
       "      <td>473093</td>\n",
       "    </tr>\n",
       "  </tbody>\n",
       "</table>\n",
       "</div>"
      ],
      "text/plain": [
       "    LATITUDE  LONGITUDE  PASSENGER_COUNT\n",
       "0  40.783806  29.411556          1606964\n",
       "1  40.784139  29.409500           284876\n",
       "2  40.792333  29.391806           199346\n",
       "3  40.799333  29.379972           595661\n",
       "4  40.808556  29.363944           473093"
      ]
     },
     "execution_count": 12,
     "metadata": {},
     "output_type": "execute_result"
    }
   ],
   "source": [
    "df.head()"
   ]
  },
  {
   "cell_type": "markdown",
   "id": "837f5671",
   "metadata": {},
   "source": [
    "## Visualization"
   ]
  },
  {
   "cell_type": "markdown",
   "id": "03872c4d",
   "metadata": {},
   "source": [
    "Lets see if we are good to go and plot the passenger counts using seaborn library without a map. We can visualize the data using scatterplot and setting the size as passenger counts. You can learn more about seaborn from: https://seaborn.pydata.org/index.html"
   ]
  },
  {
   "cell_type": "code",
   "execution_count": 13,
   "id": "0d70dfb1",
   "metadata": {
    "scrolled": false
   },
   "outputs": [
    {
     "data": {
      "text/plain": [
       "<AxesSubplot:xlabel='LONGITUDE', ylabel='LATITUDE'>"
      ]
     },
     "execution_count": 13,
     "metadata": {},
     "output_type": "execute_result"
    },
    {
     "data": {
      "image/png": "[encoded data removed]",
      "text/plain": [
       "<Figure size 864x576 with 1 Axes>"
      ]
     },
     "metadata": {
      "needs_background": "light"
     },
     "output_type": "display_data"
    }
   ],
   "source": [
    "plt.figure(figsize=(12,8))\n",
    "sns.scatterplot(x='LONGITUDE',y='LATITUDE',data=df,\n",
    "                sizes=(50, 500), size=\"PASSENGER_COUNT\",alpha=.5)"
   ]
  },
  {
   "cell_type": "markdown",
   "id": "4fc12252",
   "metadata": {},
   "source": [
    "So far, so good. We visualized the data using seaborn without a map. Now, lets use gmaps library to create a weigthed heatmap on an actual map."
   ]
  },
  {
   "cell_type": "markdown",
   "id": "2ab7e2e2",
   "metadata": {},
   "source": [
    "#### Gmaps\n",
    "This is the second part of the visualization section. First, we need to import the gmaps library and configure it with our own API Key from https://console.cloud.google.com/home "
   ]
  },
  {
   "cell_type": "code",
   "execution_count": 14,
   "id": "01b33861",
   "metadata": {},
   "outputs": [],
   "source": [
    "import gmaps"
   ]
  },
  {
   "cell_type": "code",
   "execution_count": 15,
   "id": "7176e606",
   "metadata": {},
   "outputs": [],
   "source": [
    "gmaps.configure(api_key=\"###\") "
   ]
  },
  {
   "cell_type": "code",
   "execution_count": 16,
   "id": "c238eec6",
   "metadata": {},
   "outputs": [],
   "source": [
    "locations = df[[\"LATITUDE\",\"LONGITUDE\"]]\n",
    "weights = df[\"PASSENGER_COUNT\"]"
   ]
  },
  {
   "cell_type": "code",
   "execution_count": 17,
   "id": "ebc8b07e",
   "metadata": {},
   "outputs": [
    {
     "data": {
      "text/plain": [
       "0      1606964\n",
       "1       284876\n",
       "2       199346\n",
       "3       595661\n",
       "4       473093\n",
       "        ...   \n",
       "207     804650\n",
       "208    1578561\n",
       "209    1393639\n",
       "210     892645\n",
       "211    3260227\n",
       "Name: PASSENGER_COUNT, Length: 212, dtype: int64"
      ]
     },
     "execution_count": 17,
     "metadata": {},
     "output_type": "execute_result"
    }
   ],
   "source": [
    "weights"
   ]
  },
  {
   "cell_type": "code",
   "execution_count": 18,
   "id": "d41b2bd1",
   "metadata": {},
   "outputs": [],
   "source": [
    "# The center of the map\n",
    "center_coordinates = (41.036841, 29.016209)"
   ]
  },
  {
   "cell_type": "code",
   "execution_count": 19,
   "id": "0d4275ea",
   "metadata": {},
   "outputs": [],
   "source": [
    "figure_layout = {\n",
    "    'width': '100%',\n",
    "    'height': '75vh',\n",
    "    'border': '2px solid white',\n",
    "    'padding': '2px'\n",
    "}"
   ]
  },
  {
   "cell_type": "code",
   "execution_count": 20,
   "id": "4ca7a691",
   "metadata": {
    "scrolled": false
   },
   "outputs": [
    {
     "data": {
      "application/vnd.jupyter.widget-view+json": {
       "model_id": "408289da639646b4b7f10c613ff6b6d7",
       "version_major": 2,
       "version_minor": 0
      },
      "text/plain": [
       "Figure(layout=FigureLayout(border='2px solid white', height='75vh', padding='2px', width='100%'))"
      ]
     },
     "metadata": {},
     "output_type": "display_data"
    }
   ],
   "source": [
    "fig = gmaps.figure(center=center_coordinates, \n",
    "                   zoom_level=10, \n",
    "                   map_type='HYBRID', \n",
    "                   layout=figure_layout)\n",
    "\n",
    "fig.add_layer(gmaps.heatmap_layer(locations, \n",
    "                                  weights=weights, \n",
    "                                  point_radius=20,\n",
    "                                  max_intensity=5000000))\n",
    "fig"
   ]
  },
  {
   "cell_type": "markdown",
   "id": "e28ee919",
   "metadata": {},
   "source": [
    "#### Exporting the map as html"
   ]
  },
  {
   "cell_type": "code",
   "execution_count": 21,
   "id": "9f893d73",
   "metadata": {},
   "outputs": [],
   "source": [
    "from ipywidgets.embed import embed_minimal_html"
   ]
  },
  {
   "cell_type": "code",
   "execution_count": 22,
   "id": "c46a46e1",
   "metadata": {},
   "outputs": [],
   "source": [
    "embed_minimal_html('export.html', views=[fig])\n"
   ]
  }
 ],
 "metadata": {
  "kernelspec": {
   "display_name": "Python 3 (ipykernel)",
   "language": "python",
   "name": "python3"
  },
  "language_info": {
   "codemirror_mode": {
    "name": "ipython",
    "version": 3
   },
   "file_extension": ".py",
   "mimetype": "text/x-python",
   "name": "python",
   "nbconvert_exporter": "python",
   "pygments_lexer": "ipython3",
   "version": "3.7.11"
  }
 },
 "nbformat": 4,
 "nbformat_minor": 5
}
