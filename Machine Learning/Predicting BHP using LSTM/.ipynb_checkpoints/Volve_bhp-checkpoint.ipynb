{
 "cells": [
  {
   "cell_type": "markdown",
   "metadata": {
    "id": "FjwcmGSwErMk"
   },
   "source": [
    "# PREDICTING BOTTOM HOLE PRESSURE IN VOLVE FIELD USING RNN (LSTM)\n",
    "\n",
    "#### Author: Ediz Anıl Özkaya\n",
    "\n",
    "http://edizozkaya.com\n",
    "\n",
    "LinkedIn: https://www.linkedin.com/in/ediz-anıl-özkaya-863bb6161\n",
    "\n",
    "GitHub: https://github.com/EdizAnil"
   ]
  },
  {
   "cell_type": "markdown",
   "metadata": {
    "id": "H_kEV-c5lOPQ"
   },
   "source": [
    "## Introduction\n",
    "Volve is a decommissioned oil field located in the central part of the North Sea. The field is discovered in 1993 and the production started in 2008 and shut down in 2016.\n",
    "\n",
    "https://www.norskpetroleum.no/en/facts/field/volve/\n",
    "\n",
    "### Dataset\n",
    "The dataset is publicly available under Equinor Open Data Licence.\n",
    "The dataset in total contains about 40,000 files. Only the file named \"Volve production data.xlsx\" used in this notebook. \n",
    "\n",
    "More information about the dataset:\n",
    "\n",
    "https://www.equinor.com/en/what-we-do/digitalisation-in-our-dna/volve-field-data-village-download.html\n",
    "\n",
    "### Problem Statement\n",
    "\n",
    "Given 6 parameters from the well predict the bottom hole pressure. \n",
    "\n",
    "### Approach\n",
    "The production data is in the form of a time series with \"DATEPRD\" column represents the date of production. Considering that the production from previous time steps may still have some impact on the bottom hole pressure, a recurrent neural network may perform well. LSTM (Long short-term memory) which is an artificial recurrent neural network architecture used in this model to achieve the goal of predicting the bottom hole pressure.\n"
   ]
  },
  {
   "cell_type": "markdown",
   "metadata": {
    "id": "01W4M3n8lOPS"
   },
   "source": [
    "### Library Imports"
   ]
  },
  {
   "cell_type": "code",
   "execution_count": 1,
   "metadata": {
    "id": "tpe3aJF4UYZ8"
   },
   "outputs": [],
   "source": [
    "import pandas as pd\n",
    "import numpy as np\n",
    "import matplotlib as mpl\n",
    "import matplotlib.pyplot as plt\n",
    "import seaborn as sns\n",
    "from sklearn.model_selection import train_test_split\n",
    "from keras.preprocessing.sequence import TimeseriesGenerator\n",
    "from sklearn.preprocessing import MinMaxScaler, StandardScaler\n",
    "import tensorflow as tf\n",
    "\n"
   ]
  },
  {
   "cell_type": "code",
   "execution_count": 2,
   "metadata": {
    "id": "w4dpdClKlOPU"
   },
   "outputs": [],
   "source": [
    "mpl.rcParams['figure.figsize'] = (10, 8)\n",
    "mpl.rcParams['axes.grid'] = False"
   ]
  },
  {
   "cell_type": "markdown",
   "metadata": {
    "id": "r_o7VSgvlOPV"
   },
   "source": [
    "### Reading the data"
   ]
  },
  {
   "cell_type": "code",
   "execution_count": 3,
   "metadata": {
    "collapsed": true,
    "id": "IwzLJp1QUsCi"
   },
   "outputs": [],
   "source": [
    "df_prod = pd.read_excel(\"https://github.com/EdizAnil/data-science-portfolio/raw/2ac89b673ef9e7385e43713b2fc29a2ef4cc1631/Machine%20Learning/Predicting%20BHP%20using%20LSTM/Volve%20production%20data.xlsx\")"
   ]
  },
  {
   "cell_type": "code",
   "execution_count": 4,
   "metadata": {
    "colab": {
     "base_uri": "https://localhost:8080/",
     "height": 605
    },
    "id": "TOKibjgblOPX",
    "outputId": "7062d602-47ab-4117-b5e6-b5fcf66d32be"
   },
   "outputs": [
    {
     "data": {
      "text/html": [
       "<div>\n",
       "<style scoped>\n",
       "    .dataframe tbody tr th:only-of-type {\n",
       "        vertical-align: middle;\n",
       "    }\n",
       "\n",
       "    .dataframe tbody tr th {\n",
       "        vertical-align: top;\n",
       "    }\n",
       "\n",
       "    .dataframe thead th {\n",
       "        text-align: right;\n",
       "    }\n",
       "</style>\n",
       "<table border=\"1\" class=\"dataframe\">\n",
       "  <thead>\n",
       "    <tr style=\"text-align: right;\">\n",
       "      <th></th>\n",
       "      <th>DATEPRD</th>\n",
       "      <th>WELL_BORE_CODE</th>\n",
       "      <th>NPD_WELL_BORE_CODE</th>\n",
       "      <th>NPD_WELL_BORE_NAME</th>\n",
       "      <th>NPD_FIELD_CODE</th>\n",
       "      <th>NPD_FIELD_NAME</th>\n",
       "      <th>NPD_FACILITY_CODE</th>\n",
       "      <th>NPD_FACILITY_NAME</th>\n",
       "      <th>ON_STREAM_HRS</th>\n",
       "      <th>AVG_DOWNHOLE_PRESSURE</th>\n",
       "      <th>AVG_DOWNHOLE_TEMPERATURE</th>\n",
       "      <th>AVG_DP_TUBING</th>\n",
       "      <th>AVG_ANNULUS_PRESS</th>\n",
       "      <th>AVG_CHOKE_SIZE_P</th>\n",
       "      <th>AVG_CHOKE_UOM</th>\n",
       "      <th>AVG_WHP_P</th>\n",
       "      <th>AVG_WHT_P</th>\n",
       "      <th>DP_CHOKE_SIZE</th>\n",
       "      <th>BORE_OIL_VOL</th>\n",
       "      <th>BORE_GAS_VOL</th>\n",
       "      <th>BORE_WAT_VOL</th>\n",
       "      <th>BORE_WI_VOL</th>\n",
       "      <th>FLOW_KIND</th>\n",
       "      <th>WELL_TYPE</th>\n",
       "    </tr>\n",
       "  </thead>\n",
       "  <tbody>\n",
       "    <tr>\n",
       "      <th>0</th>\n",
       "      <td>2014-04-07</td>\n",
       "      <td>NO 15/9-F-1 C</td>\n",
       "      <td>7405</td>\n",
       "      <td>15/9-F-1 C</td>\n",
       "      <td>3420717</td>\n",
       "      <td>VOLVE</td>\n",
       "      <td>369304</td>\n",
       "      <td>MÆRSK INSPIRER</td>\n",
       "      <td>0.0</td>\n",
       "      <td>0.00000</td>\n",
       "      <td>0.00000</td>\n",
       "      <td>0.00000</td>\n",
       "      <td>0.00000</td>\n",
       "      <td>0.000000</td>\n",
       "      <td>%</td>\n",
       "      <td>0.00000</td>\n",
       "      <td>0.00000</td>\n",
       "      <td>0.00000</td>\n",
       "      <td>0.0</td>\n",
       "      <td>0.0</td>\n",
       "      <td>0.0</td>\n",
       "      <td>NaN</td>\n",
       "      <td>production</td>\n",
       "      <td>WI</td>\n",
       "    </tr>\n",
       "    <tr>\n",
       "      <th>1</th>\n",
       "      <td>2014-04-08</td>\n",
       "      <td>NO 15/9-F-1 C</td>\n",
       "      <td>7405</td>\n",
       "      <td>15/9-F-1 C</td>\n",
       "      <td>3420717</td>\n",
       "      <td>VOLVE</td>\n",
       "      <td>369304</td>\n",
       "      <td>MÆRSK INSPIRER</td>\n",
       "      <td>0.0</td>\n",
       "      <td>NaN</td>\n",
       "      <td>NaN</td>\n",
       "      <td>NaN</td>\n",
       "      <td>0.00000</td>\n",
       "      <td>1.003059</td>\n",
       "      <td>%</td>\n",
       "      <td>0.00000</td>\n",
       "      <td>0.00000</td>\n",
       "      <td>0.00000</td>\n",
       "      <td>0.0</td>\n",
       "      <td>0.0</td>\n",
       "      <td>0.0</td>\n",
       "      <td>NaN</td>\n",
       "      <td>production</td>\n",
       "      <td>OP</td>\n",
       "    </tr>\n",
       "    <tr>\n",
       "      <th>2</th>\n",
       "      <td>2014-04-09</td>\n",
       "      <td>NO 15/9-F-1 C</td>\n",
       "      <td>7405</td>\n",
       "      <td>15/9-F-1 C</td>\n",
       "      <td>3420717</td>\n",
       "      <td>VOLVE</td>\n",
       "      <td>369304</td>\n",
       "      <td>MÆRSK INSPIRER</td>\n",
       "      <td>0.0</td>\n",
       "      <td>NaN</td>\n",
       "      <td>NaN</td>\n",
       "      <td>NaN</td>\n",
       "      <td>0.00000</td>\n",
       "      <td>0.979008</td>\n",
       "      <td>%</td>\n",
       "      <td>0.00000</td>\n",
       "      <td>0.00000</td>\n",
       "      <td>0.00000</td>\n",
       "      <td>0.0</td>\n",
       "      <td>0.0</td>\n",
       "      <td>0.0</td>\n",
       "      <td>NaN</td>\n",
       "      <td>production</td>\n",
       "      <td>OP</td>\n",
       "    </tr>\n",
       "    <tr>\n",
       "      <th>3</th>\n",
       "      <td>2014-04-10</td>\n",
       "      <td>NO 15/9-F-1 C</td>\n",
       "      <td>7405</td>\n",
       "      <td>15/9-F-1 C</td>\n",
       "      <td>3420717</td>\n",
       "      <td>VOLVE</td>\n",
       "      <td>369304</td>\n",
       "      <td>MÆRSK INSPIRER</td>\n",
       "      <td>0.0</td>\n",
       "      <td>NaN</td>\n",
       "      <td>NaN</td>\n",
       "      <td>NaN</td>\n",
       "      <td>0.00000</td>\n",
       "      <td>0.545759</td>\n",
       "      <td>%</td>\n",
       "      <td>0.00000</td>\n",
       "      <td>0.00000</td>\n",
       "      <td>0.00000</td>\n",
       "      <td>0.0</td>\n",
       "      <td>0.0</td>\n",
       "      <td>0.0</td>\n",
       "      <td>NaN</td>\n",
       "      <td>production</td>\n",
       "      <td>OP</td>\n",
       "    </tr>\n",
       "    <tr>\n",
       "      <th>4</th>\n",
       "      <td>2014-04-11</td>\n",
       "      <td>NO 15/9-F-1 C</td>\n",
       "      <td>7405</td>\n",
       "      <td>15/9-F-1 C</td>\n",
       "      <td>3420717</td>\n",
       "      <td>VOLVE</td>\n",
       "      <td>369304</td>\n",
       "      <td>MÆRSK INSPIRER</td>\n",
       "      <td>0.0</td>\n",
       "      <td>310.37614</td>\n",
       "      <td>96.87589</td>\n",
       "      <td>277.27826</td>\n",
       "      <td>0.00000</td>\n",
       "      <td>1.215987</td>\n",
       "      <td>%</td>\n",
       "      <td>33.09788</td>\n",
       "      <td>10.47992</td>\n",
       "      <td>33.07195</td>\n",
       "      <td>0.0</td>\n",
       "      <td>0.0</td>\n",
       "      <td>0.0</td>\n",
       "      <td>NaN</td>\n",
       "      <td>production</td>\n",
       "      <td>OP</td>\n",
       "    </tr>\n",
       "    <tr>\n",
       "      <th>...</th>\n",
       "      <td>...</td>\n",
       "      <td>...</td>\n",
       "      <td>...</td>\n",
       "      <td>...</td>\n",
       "      <td>...</td>\n",
       "      <td>...</td>\n",
       "      <td>...</td>\n",
       "      <td>...</td>\n",
       "      <td>...</td>\n",
       "      <td>...</td>\n",
       "      <td>...</td>\n",
       "      <td>...</td>\n",
       "      <td>...</td>\n",
       "      <td>...</td>\n",
       "      <td>...</td>\n",
       "      <td>...</td>\n",
       "      <td>...</td>\n",
       "      <td>...</td>\n",
       "      <td>...</td>\n",
       "      <td>...</td>\n",
       "      <td>...</td>\n",
       "      <td>...</td>\n",
       "      <td>...</td>\n",
       "      <td>...</td>\n",
       "    </tr>\n",
       "    <tr>\n",
       "      <th>15629</th>\n",
       "      <td>2016-09-14</td>\n",
       "      <td>NO 15/9-F-5 AH</td>\n",
       "      <td>5769</td>\n",
       "      <td>15/9-F-5</td>\n",
       "      <td>3420717</td>\n",
       "      <td>VOLVE</td>\n",
       "      <td>369304</td>\n",
       "      <td>MÆRSK INSPIRER</td>\n",
       "      <td>0.0</td>\n",
       "      <td>NaN</td>\n",
       "      <td>NaN</td>\n",
       "      <td>NaN</td>\n",
       "      <td>0.27272</td>\n",
       "      <td>0.636088</td>\n",
       "      <td>%</td>\n",
       "      <td>0.07776</td>\n",
       "      <td>0.22879</td>\n",
       "      <td>0.01862</td>\n",
       "      <td>0.0</td>\n",
       "      <td>0.0</td>\n",
       "      <td>0.0</td>\n",
       "      <td>NaN</td>\n",
       "      <td>production</td>\n",
       "      <td>OP</td>\n",
       "    </tr>\n",
       "    <tr>\n",
       "      <th>15630</th>\n",
       "      <td>2016-09-15</td>\n",
       "      <td>NO 15/9-F-5 AH</td>\n",
       "      <td>5769</td>\n",
       "      <td>15/9-F-5</td>\n",
       "      <td>3420717</td>\n",
       "      <td>VOLVE</td>\n",
       "      <td>369304</td>\n",
       "      <td>MÆRSK INSPIRER</td>\n",
       "      <td>0.0</td>\n",
       "      <td>NaN</td>\n",
       "      <td>NaN</td>\n",
       "      <td>NaN</td>\n",
       "      <td>0.28686</td>\n",
       "      <td>0.670794</td>\n",
       "      <td>%</td>\n",
       "      <td>0.08545</td>\n",
       "      <td>0.22914</td>\n",
       "      <td>0.00631</td>\n",
       "      <td>0.0</td>\n",
       "      <td>0.0</td>\n",
       "      <td>0.0</td>\n",
       "      <td>NaN</td>\n",
       "      <td>production</td>\n",
       "      <td>OP</td>\n",
       "    </tr>\n",
       "    <tr>\n",
       "      <th>15631</th>\n",
       "      <td>2016-09-16</td>\n",
       "      <td>NO 15/9-F-5 AH</td>\n",
       "      <td>5769</td>\n",
       "      <td>15/9-F-5</td>\n",
       "      <td>3420717</td>\n",
       "      <td>VOLVE</td>\n",
       "      <td>369304</td>\n",
       "      <td>MÆRSK INSPIRER</td>\n",
       "      <td>0.0</td>\n",
       "      <td>NaN</td>\n",
       "      <td>NaN</td>\n",
       "      <td>NaN</td>\n",
       "      <td>0.28604</td>\n",
       "      <td>0.664393</td>\n",
       "      <td>%</td>\n",
       "      <td>0.08544</td>\n",
       "      <td>0.22896</td>\n",
       "      <td>0.01181</td>\n",
       "      <td>0.0</td>\n",
       "      <td>0.0</td>\n",
       "      <td>0.0</td>\n",
       "      <td>NaN</td>\n",
       "      <td>production</td>\n",
       "      <td>OP</td>\n",
       "    </tr>\n",
       "    <tr>\n",
       "      <th>15632</th>\n",
       "      <td>2016-09-17</td>\n",
       "      <td>NO 15/9-F-5 AH</td>\n",
       "      <td>5769</td>\n",
       "      <td>15/9-F-5</td>\n",
       "      <td>3420717</td>\n",
       "      <td>VOLVE</td>\n",
       "      <td>369304</td>\n",
       "      <td>MÆRSK INSPIRER</td>\n",
       "      <td>0.0</td>\n",
       "      <td>NaN</td>\n",
       "      <td>NaN</td>\n",
       "      <td>NaN</td>\n",
       "      <td>0.27212</td>\n",
       "      <td>0.624660</td>\n",
       "      <td>%</td>\n",
       "      <td>0.07497</td>\n",
       "      <td>0.22846</td>\n",
       "      <td>0.02576</td>\n",
       "      <td>0.0</td>\n",
       "      <td>0.0</td>\n",
       "      <td>0.0</td>\n",
       "      <td>NaN</td>\n",
       "      <td>production</td>\n",
       "      <td>OP</td>\n",
       "    </tr>\n",
       "    <tr>\n",
       "      <th>15633</th>\n",
       "      <td>2016-09-18</td>\n",
       "      <td>NO 15/9-F-5 AH</td>\n",
       "      <td>5769</td>\n",
       "      <td>15/9-F-5</td>\n",
       "      <td>3420717</td>\n",
       "      <td>VOLVE</td>\n",
       "      <td>369304</td>\n",
       "      <td>MÆRSK INSPIRER</td>\n",
       "      <td>0.0</td>\n",
       "      <td>NaN</td>\n",
       "      <td>NaN</td>\n",
       "      <td>NaN</td>\n",
       "      <td>NaN</td>\n",
       "      <td>NaN</td>\n",
       "      <td>NaN</td>\n",
       "      <td>NaN</td>\n",
       "      <td>NaN</td>\n",
       "      <td>0.00000</td>\n",
       "      <td>NaN</td>\n",
       "      <td>NaN</td>\n",
       "      <td>NaN</td>\n",
       "      <td>0.0</td>\n",
       "      <td>injection</td>\n",
       "      <td>WI</td>\n",
       "    </tr>\n",
       "  </tbody>\n",
       "</table>\n",
       "<p>15634 rows × 24 columns</p>\n",
       "</div>"
      ],
      "text/plain": [
       "         DATEPRD  WELL_BORE_CODE  ...   FLOW_KIND WELL_TYPE\n",
       "0     2014-04-07   NO 15/9-F-1 C  ...  production        WI\n",
       "1     2014-04-08   NO 15/9-F-1 C  ...  production        OP\n",
       "2     2014-04-09   NO 15/9-F-1 C  ...  production        OP\n",
       "3     2014-04-10   NO 15/9-F-1 C  ...  production        OP\n",
       "4     2014-04-11   NO 15/9-F-1 C  ...  production        OP\n",
       "...          ...             ...  ...         ...       ...\n",
       "15629 2016-09-14  NO 15/9-F-5 AH  ...  production        OP\n",
       "15630 2016-09-15  NO 15/9-F-5 AH  ...  production        OP\n",
       "15631 2016-09-16  NO 15/9-F-5 AH  ...  production        OP\n",
       "15632 2016-09-17  NO 15/9-F-5 AH  ...  production        OP\n",
       "15633 2016-09-18  NO 15/9-F-5 AH  ...   injection        WI\n",
       "\n",
       "[15634 rows x 24 columns]"
      ]
     },
     "execution_count": 4,
     "metadata": {},
     "output_type": "execute_result"
    }
   ],
   "source": [
    "df_prod"
   ]
  },
  {
   "cell_type": "code",
   "execution_count": 5,
   "metadata": {
    "colab": {
     "base_uri": "https://localhost:8080/"
    },
    "id": "edF0SiuklOPY",
    "outputId": "2ed3a62a-583b-428d-cff2-1b461410ce18"
   },
   "outputs": [
    {
     "name": "stdout",
     "output_type": "stream",
     "text": [
      "<class 'pandas.core.frame.DataFrame'>\n",
      "RangeIndex: 15634 entries, 0 to 15633\n",
      "Data columns (total 24 columns):\n",
      " #   Column                    Non-Null Count  Dtype         \n",
      "---  ------                    --------------  -----         \n",
      " 0   DATEPRD                   15634 non-null  datetime64[ns]\n",
      " 1   WELL_BORE_CODE            15634 non-null  object        \n",
      " 2   NPD_WELL_BORE_CODE        15634 non-null  int64         \n",
      " 3   NPD_WELL_BORE_NAME        15634 non-null  object        \n",
      " 4   NPD_FIELD_CODE            15634 non-null  int64         \n",
      " 5   NPD_FIELD_NAME            15634 non-null  object        \n",
      " 6   NPD_FACILITY_CODE         15634 non-null  int64         \n",
      " 7   NPD_FACILITY_NAME         15634 non-null  object        \n",
      " 8   ON_STREAM_HRS             15349 non-null  float64       \n",
      " 9   AVG_DOWNHOLE_PRESSURE     8980 non-null   float64       \n",
      " 10  AVG_DOWNHOLE_TEMPERATURE  8980 non-null   float64       \n",
      " 11  AVG_DP_TUBING             8980 non-null   float64       \n",
      " 12  AVG_ANNULUS_PRESS         7890 non-null   float64       \n",
      " 13  AVG_CHOKE_SIZE_P          8919 non-null   float64       \n",
      " 14  AVG_CHOKE_UOM             9161 non-null   object        \n",
      " 15  AVG_WHP_P                 9155 non-null   float64       \n",
      " 16  AVG_WHT_P                 9146 non-null   float64       \n",
      " 17  DP_CHOKE_SIZE             15340 non-null  float64       \n",
      " 18  BORE_OIL_VOL              9161 non-null   float64       \n",
      " 19  BORE_GAS_VOL              9161 non-null   float64       \n",
      " 20  BORE_WAT_VOL              9161 non-null   float64       \n",
      " 21  BORE_WI_VOL               5706 non-null   float64       \n",
      " 22  FLOW_KIND                 15634 non-null  object        \n",
      " 23  WELL_TYPE                 15634 non-null  object        \n",
      "dtypes: datetime64[ns](1), float64(13), int64(3), object(7)\n",
      "memory usage: 2.9+ MB\n"
     ]
    }
   ],
   "source": [
    "df_prod.info()"
   ]
  },
  {
   "cell_type": "markdown",
   "metadata": {
    "id": "u6EERuRzlOPZ"
   },
   "source": [
    "Lets pick a random date to see the data for that day."
   ]
  },
  {
   "cell_type": "code",
   "execution_count": 6,
   "metadata": {
    "colab": {
     "base_uri": "https://localhost:8080/",
     "height": 402
    },
    "id": "ZFtC3JnQUvL_",
    "outputId": "e84c7099-d335-46c5-a31a-38cf4a05efbf",
    "scrolled": true
   },
   "outputs": [
    {
     "data": {
      "text/html": [
       "<div>\n",
       "<style scoped>\n",
       "    .dataframe tbody tr th:only-of-type {\n",
       "        vertical-align: middle;\n",
       "    }\n",
       "\n",
       "    .dataframe tbody tr th {\n",
       "        vertical-align: top;\n",
       "    }\n",
       "\n",
       "    .dataframe thead th {\n",
       "        text-align: right;\n",
       "    }\n",
       "</style>\n",
       "<table border=\"1\" class=\"dataframe\">\n",
       "  <thead>\n",
       "    <tr style=\"text-align: right;\">\n",
       "      <th></th>\n",
       "      <th>DATEPRD</th>\n",
       "      <th>WELL_BORE_CODE</th>\n",
       "      <th>NPD_WELL_BORE_CODE</th>\n",
       "      <th>NPD_WELL_BORE_NAME</th>\n",
       "      <th>NPD_FIELD_CODE</th>\n",
       "      <th>NPD_FIELD_NAME</th>\n",
       "      <th>NPD_FACILITY_CODE</th>\n",
       "      <th>NPD_FACILITY_NAME</th>\n",
       "      <th>ON_STREAM_HRS</th>\n",
       "      <th>AVG_DOWNHOLE_PRESSURE</th>\n",
       "      <th>AVG_DOWNHOLE_TEMPERATURE</th>\n",
       "      <th>AVG_DP_TUBING</th>\n",
       "      <th>AVG_ANNULUS_PRESS</th>\n",
       "      <th>AVG_CHOKE_SIZE_P</th>\n",
       "      <th>AVG_CHOKE_UOM</th>\n",
       "      <th>AVG_WHP_P</th>\n",
       "      <th>AVG_WHT_P</th>\n",
       "      <th>DP_CHOKE_SIZE</th>\n",
       "      <th>BORE_OIL_VOL</th>\n",
       "      <th>BORE_GAS_VOL</th>\n",
       "      <th>BORE_WAT_VOL</th>\n",
       "      <th>BORE_WI_VOL</th>\n",
       "      <th>FLOW_KIND</th>\n",
       "      <th>WELL_TYPE</th>\n",
       "    </tr>\n",
       "  </thead>\n",
       "  <tbody>\n",
       "    <tr>\n",
       "      <th>611</th>\n",
       "      <td>2015-12-09</td>\n",
       "      <td>NO 15/9-F-1 C</td>\n",
       "      <td>7405</td>\n",
       "      <td>15/9-F-1 C</td>\n",
       "      <td>3420717</td>\n",
       "      <td>VOLVE</td>\n",
       "      <td>369304</td>\n",
       "      <td>MÆRSK INSPIRER</td>\n",
       "      <td>5.65833</td>\n",
       "      <td>207.588819</td>\n",
       "      <td>108.192286</td>\n",
       "      <td>184.404598</td>\n",
       "      <td>NaN</td>\n",
       "      <td>13.989629</td>\n",
       "      <td>%</td>\n",
       "      <td>23.184220</td>\n",
       "      <td>73.224383</td>\n",
       "      <td>7.709447</td>\n",
       "      <td>97.79</td>\n",
       "      <td>15245.96</td>\n",
       "      <td>191.92</td>\n",
       "      <td>NaN</td>\n",
       "      <td>production</td>\n",
       "      <td>OP</td>\n",
       "    </tr>\n",
       "    <tr>\n",
       "      <th>1627</th>\n",
       "      <td>2015-12-09</td>\n",
       "      <td>NO 15/9-F-11 H</td>\n",
       "      <td>7078</td>\n",
       "      <td>15/9-F-11</td>\n",
       "      <td>3420717</td>\n",
       "      <td>VOLVE</td>\n",
       "      <td>369304</td>\n",
       "      <td>MÆRSK INSPIRER</td>\n",
       "      <td>20.16667</td>\n",
       "      <td>235.555490</td>\n",
       "      <td>105.829900</td>\n",
       "      <td>197.379835</td>\n",
       "      <td>10.397365</td>\n",
       "      <td>39.149164</td>\n",
       "      <td>%</td>\n",
       "      <td>38.175655</td>\n",
       "      <td>72.972256</td>\n",
       "      <td>10.918799</td>\n",
       "      <td>973.00</td>\n",
       "      <td>151701.80</td>\n",
       "      <td>2167.72</td>\n",
       "      <td>NaN</td>\n",
       "      <td>production</td>\n",
       "      <td>OP</td>\n",
       "    </tr>\n",
       "    <tr>\n",
       "      <th>4683</th>\n",
       "      <td>2015-12-09</td>\n",
       "      <td>NO 15/9-F-12 H</td>\n",
       "      <td>5599</td>\n",
       "      <td>15/9-F-12</td>\n",
       "      <td>3420717</td>\n",
       "      <td>VOLVE</td>\n",
       "      <td>369304</td>\n",
       "      <td>MÆRSK INSPIRER</td>\n",
       "      <td>11.33334</td>\n",
       "      <td>0.000000</td>\n",
       "      <td>0.000000</td>\n",
       "      <td>27.938524</td>\n",
       "      <td>19.026891</td>\n",
       "      <td>65.085658</td>\n",
       "      <td>%</td>\n",
       "      <td>27.938524</td>\n",
       "      <td>78.569312</td>\n",
       "      <td>1.372199</td>\n",
       "      <td>155.48</td>\n",
       "      <td>24240.13</td>\n",
       "      <td>681.04</td>\n",
       "      <td>NaN</td>\n",
       "      <td>production</td>\n",
       "      <td>OP</td>\n",
       "    </tr>\n",
       "    <tr>\n",
       "      <th>7739</th>\n",
       "      <td>2015-12-09</td>\n",
       "      <td>NO 15/9-F-14 H</td>\n",
       "      <td>5351</td>\n",
       "      <td>15/9-F-14</td>\n",
       "      <td>3420717</td>\n",
       "      <td>VOLVE</td>\n",
       "      <td>369304</td>\n",
       "      <td>MÆRSK INSPIRER</td>\n",
       "      <td>20.50000</td>\n",
       "      <td>273.233417</td>\n",
       "      <td>99.519911</td>\n",
       "      <td>240.114060</td>\n",
       "      <td>13.174557</td>\n",
       "      <td>53.297076</td>\n",
       "      <td>%</td>\n",
       "      <td>33.119357</td>\n",
       "      <td>82.146609</td>\n",
       "      <td>5.506541</td>\n",
       "      <td>96.23</td>\n",
       "      <td>15003.33</td>\n",
       "      <td>2249.76</td>\n",
       "      <td>NaN</td>\n",
       "      <td>production</td>\n",
       "      <td>OP</td>\n",
       "    </tr>\n",
       "    <tr>\n",
       "      <th>8717</th>\n",
       "      <td>2015-12-09</td>\n",
       "      <td>NO 15/9-F-15 D</td>\n",
       "      <td>7289</td>\n",
       "      <td>15/9-F-15 D</td>\n",
       "      <td>3420717</td>\n",
       "      <td>VOLVE</td>\n",
       "      <td>369304</td>\n",
       "      <td>MÆRSK INSPIRER</td>\n",
       "      <td>13.17500</td>\n",
       "      <td>244.357305</td>\n",
       "      <td>106.046989</td>\n",
       "      <td>194.722607</td>\n",
       "      <td>20.853367</td>\n",
       "      <td>8.766091</td>\n",
       "      <td>%</td>\n",
       "      <td>49.634699</td>\n",
       "      <td>33.283087</td>\n",
       "      <td>23.260481</td>\n",
       "      <td>212.65</td>\n",
       "      <td>33153.72</td>\n",
       "      <td>201.48</td>\n",
       "      <td>NaN</td>\n",
       "      <td>production</td>\n",
       "      <td>OP</td>\n",
       "    </tr>\n",
       "    <tr>\n",
       "      <th>12022</th>\n",
       "      <td>2015-12-09</td>\n",
       "      <td>NO 15/9-F-4 AH</td>\n",
       "      <td>5693</td>\n",
       "      <td>15/9-F-4</td>\n",
       "      <td>3420717</td>\n",
       "      <td>VOLVE</td>\n",
       "      <td>369304</td>\n",
       "      <td>MÆRSK INSPIRER</td>\n",
       "      <td>19.24999</td>\n",
       "      <td>NaN</td>\n",
       "      <td>NaN</td>\n",
       "      <td>NaN</td>\n",
       "      <td>NaN</td>\n",
       "      <td>NaN</td>\n",
       "      <td>NaN</td>\n",
       "      <td>NaN</td>\n",
       "      <td>NaN</td>\n",
       "      <td>0.000000</td>\n",
       "      <td>NaN</td>\n",
       "      <td>NaN</td>\n",
       "      <td>NaN</td>\n",
       "      <td>3997.072121</td>\n",
       "      <td>injection</td>\n",
       "      <td>WI</td>\n",
       "    </tr>\n",
       "    <tr>\n",
       "      <th>15349</th>\n",
       "      <td>2015-12-09</td>\n",
       "      <td>NO 15/9-F-5 AH</td>\n",
       "      <td>5769</td>\n",
       "      <td>15/9-F-5</td>\n",
       "      <td>3420717</td>\n",
       "      <td>VOLVE</td>\n",
       "      <td>369304</td>\n",
       "      <td>MÆRSK INSPIRER</td>\n",
       "      <td>19.24999</td>\n",
       "      <td>NaN</td>\n",
       "      <td>NaN</td>\n",
       "      <td>NaN</td>\n",
       "      <td>NaN</td>\n",
       "      <td>NaN</td>\n",
       "      <td>NaN</td>\n",
       "      <td>NaN</td>\n",
       "      <td>NaN</td>\n",
       "      <td>0.000000</td>\n",
       "      <td>NaN</td>\n",
       "      <td>NaN</td>\n",
       "      <td>NaN</td>\n",
       "      <td>3931.728836</td>\n",
       "      <td>injection</td>\n",
       "      <td>WI</td>\n",
       "    </tr>\n",
       "  </tbody>\n",
       "</table>\n",
       "</div>"
      ],
      "text/plain": [
       "         DATEPRD  WELL_BORE_CODE  ...   FLOW_KIND WELL_TYPE\n",
       "611   2015-12-09   NO 15/9-F-1 C  ...  production        OP\n",
       "1627  2015-12-09  NO 15/9-F-11 H  ...  production        OP\n",
       "4683  2015-12-09  NO 15/9-F-12 H  ...  production        OP\n",
       "7739  2015-12-09  NO 15/9-F-14 H  ...  production        OP\n",
       "8717  2015-12-09  NO 15/9-F-15 D  ...  production        OP\n",
       "12022 2015-12-09  NO 15/9-F-4 AH  ...   injection        WI\n",
       "15349 2015-12-09  NO 15/9-F-5 AH  ...   injection        WI\n",
       "\n",
       "[7 rows x 24 columns]"
      ]
     },
     "execution_count": 6,
     "metadata": {},
     "output_type": "execute_result"
    }
   ],
   "source": [
    "df_prod[df_prod[\"DATEPRD\"] == \"2015-12-09\"]\n",
    "\n"
   ]
  },
  {
   "cell_type": "code",
   "execution_count": 7,
   "metadata": {
    "id": "aZq-h35sUwR3"
   },
   "outputs": [],
   "source": [
    "column_names = {\n",
    "    'DATEPRD': 'date',\n",
    "    'WELL_BORE_CODE': 'well_id',\n",
    "    'NPD_WELL_BORE_CODE': 'well_name_code',\n",
    "    'NPD_WELL_BORE_NAME': 'well_name',\n",
    "    'NPD_FIELD_CODE': 'field_code',\n",
    "    'NPD_FIELD_NAME': 'field_name',\n",
    "    'NPD_FACILITY_CODE': 'facility_code',\n",
    "    'NPD_FACILITY_NAME': 'facility_name',\n",
    "    'ON_STREAM_HRS': 'on_stream_hours',\n",
    "    'AVG_DOWNHOLE_PRESSURE': 'bhp',\n",
    "    'AVG_DOWNHOLE_TEMPERATURE': 'bht',\n",
    "    'AVG_DP_TUBING': 'dp_tubing',\n",
    "    'AVG_ANNULUS_PRESS': 'casing_pressure',\n",
    "    'AVG_CHOKE_SIZE_P': 'choke_size',\n",
    "    'AVG_CHOKE_UOM': 'choke_units',\n",
    "    'AVG_WHP_P': 'whp',\n",
    "    'AVG_WHT_P': 'wht',\n",
    "    'DP_CHOKE_SIZE': 'choke_size_percentage',\n",
    "    'BORE_OIL_VOL': 'oil_vol',\n",
    "    'BORE_GAS_VOL': 'gas_vol',\n",
    "    'BORE_WAT_VOL': 'water_vol',\n",
    "    'BORE_WI_VOL': 'water_inj',\n",
    "    'FLOW_KIND': 'flow_kind',\n",
    "    'WELL_TYPE': 'well_type'\n",
    "}"
   ]
  },
  {
   "cell_type": "code",
   "execution_count": 8,
   "metadata": {
    "id": "faUseRzUUxln"
   },
   "outputs": [],
   "source": [
    "df_prod.rename(columns=column_names, inplace=True)"
   ]
  },
  {
   "cell_type": "markdown",
   "metadata": {
    "id": "blBM9QW3lOPc"
   },
   "source": [
    "### Selection of well\n",
    "\n",
    "The well \"NO 15/9-F-11 H\" is selected for the training and testing. \n",
    "\n",
    "The same concept can be implicable to other wells as well. Wells \"NO 15/9-F-14 H\" and \"NO 15/9-F-12 H\" have more instances in first glance however well \"NO 15/9-F-12 H\" has a lot of rows with missing bhp values and well \"NO 15/9-F-14 H\" has a too stable bhp column. When that well selected very impressive train and validation scores are achieved but because the data used for training and testing has extremely low variance the model can not be generalized. That is the reason behind the selection of the well \"NO 15/9-F-11 H\"."
   ]
  },
  {
   "cell_type": "code",
   "execution_count": 9,
   "metadata": {
    "id": "8zuaNiGpUykq"
   },
   "outputs": [],
   "source": [
    "#dataframe for well 11\n",
    "df = df_prod[df_prod['well_id']=='NO 15/9-F-11 H']"
   ]
  },
  {
   "cell_type": "code",
   "execution_count": 10,
   "metadata": {
    "colab": {
     "base_uri": "https://localhost:8080/"
    },
    "id": "hLbHcZ3xgVAK",
    "outputId": "249d0e34-9ac0-41ac-a25c-7959f61b36db",
    "scrolled": true
   },
   "outputs": [
    {
     "name": "stdout",
     "output_type": "stream",
     "text": [
      "<class 'pandas.core.frame.DataFrame'>\n",
      "Int64Index: 1165 entries, 746 to 1910\n",
      "Data columns (total 24 columns):\n",
      " #   Column                 Non-Null Count  Dtype         \n",
      "---  ------                 --------------  -----         \n",
      " 0   date                   1165 non-null   datetime64[ns]\n",
      " 1   well_id                1165 non-null   object        \n",
      " 2   well_name_code         1165 non-null   int64         \n",
      " 3   well_name              1165 non-null   object        \n",
      " 4   field_code             1165 non-null   int64         \n",
      " 5   field_name             1165 non-null   object        \n",
      " 6   facility_code          1165 non-null   int64         \n",
      " 7   facility_name          1165 non-null   object        \n",
      " 8   on_stream_hours        1165 non-null   float64       \n",
      " 9   bhp                    1159 non-null   float64       \n",
      " 10  bht                    1159 non-null   float64       \n",
      " 11  dp_tubing              1159 non-null   float64       \n",
      " 12  casing_pressure        1159 non-null   float64       \n",
      " 13  choke_size             1163 non-null   float64       \n",
      " 14  choke_units            1165 non-null   object        \n",
      " 15  whp                    1159 non-null   float64       \n",
      " 16  wht                    1159 non-null   float64       \n",
      " 17  choke_size_percentage  1159 non-null   float64       \n",
      " 18  oil_vol                1165 non-null   float64       \n",
      " 19  gas_vol                1165 non-null   float64       \n",
      " 20  water_vol              1165 non-null   float64       \n",
      " 21  water_inj              0 non-null      float64       \n",
      " 22  flow_kind              1165 non-null   object        \n",
      " 23  well_type              1165 non-null   object        \n",
      "dtypes: datetime64[ns](1), float64(13), int64(3), object(7)\n",
      "memory usage: 227.5+ KB\n"
     ]
    }
   ],
   "source": [
    "df.info()"
   ]
  },
  {
   "cell_type": "code",
   "execution_count": 11,
   "metadata": {
    "colab": {
     "base_uri": "https://localhost:8080/",
     "height": 391
    },
    "id": "tcGOqlUTUzil",
    "outputId": "8eaf4d64-4ccb-4371-97dd-7e2db7a8ff8b"
   },
   "outputs": [
    {
     "data": {
      "text/html": [
       "<div>\n",
       "<style scoped>\n",
       "    .dataframe tbody tr th:only-of-type {\n",
       "        vertical-align: middle;\n",
       "    }\n",
       "\n",
       "    .dataframe tbody tr th {\n",
       "        vertical-align: top;\n",
       "    }\n",
       "\n",
       "    .dataframe thead th {\n",
       "        text-align: right;\n",
       "    }\n",
       "</style>\n",
       "<table border=\"1\" class=\"dataframe\">\n",
       "  <thead>\n",
       "    <tr style=\"text-align: right;\">\n",
       "      <th></th>\n",
       "      <th>date</th>\n",
       "      <th>well_id</th>\n",
       "      <th>well_name_code</th>\n",
       "      <th>well_name</th>\n",
       "      <th>field_code</th>\n",
       "      <th>field_name</th>\n",
       "      <th>facility_code</th>\n",
       "      <th>facility_name</th>\n",
       "      <th>on_stream_hours</th>\n",
       "      <th>bhp</th>\n",
       "      <th>bht</th>\n",
       "      <th>dp_tubing</th>\n",
       "      <th>casing_pressure</th>\n",
       "      <th>choke_size</th>\n",
       "      <th>choke_units</th>\n",
       "      <th>whp</th>\n",
       "      <th>wht</th>\n",
       "      <th>choke_size_percentage</th>\n",
       "      <th>oil_vol</th>\n",
       "      <th>gas_vol</th>\n",
       "      <th>water_vol</th>\n",
       "      <th>water_inj</th>\n",
       "      <th>flow_kind</th>\n",
       "      <th>well_type</th>\n",
       "    </tr>\n",
       "  </thead>\n",
       "  <tbody>\n",
       "    <tr>\n",
       "      <th>746</th>\n",
       "      <td>2013-07-08</td>\n",
       "      <td>NO 15/9-F-11 H</td>\n",
       "      <td>7078</td>\n",
       "      <td>15/9-F-11</td>\n",
       "      <td>3420717</td>\n",
       "      <td>VOLVE</td>\n",
       "      <td>369304</td>\n",
       "      <td>MÆRSK INSPIRER</td>\n",
       "      <td>0.0</td>\n",
       "      <td>0.0</td>\n",
       "      <td>0.0</td>\n",
       "      <td>0.0</td>\n",
       "      <td>0.0</td>\n",
       "      <td>0.0</td>\n",
       "      <td>%</td>\n",
       "      <td>0.0</td>\n",
       "      <td>0.0</td>\n",
       "      <td>0.0</td>\n",
       "      <td>0.0</td>\n",
       "      <td>0.0</td>\n",
       "      <td>0.0</td>\n",
       "      <td>NaN</td>\n",
       "      <td>production</td>\n",
       "      <td>OP</td>\n",
       "    </tr>\n",
       "    <tr>\n",
       "      <th>747</th>\n",
       "      <td>2013-07-09</td>\n",
       "      <td>NO 15/9-F-11 H</td>\n",
       "      <td>7078</td>\n",
       "      <td>15/9-F-11</td>\n",
       "      <td>3420717</td>\n",
       "      <td>VOLVE</td>\n",
       "      <td>369304</td>\n",
       "      <td>MÆRSK INSPIRER</td>\n",
       "      <td>0.0</td>\n",
       "      <td>0.0</td>\n",
       "      <td>0.0</td>\n",
       "      <td>0.0</td>\n",
       "      <td>0.0</td>\n",
       "      <td>0.0</td>\n",
       "      <td>%</td>\n",
       "      <td>0.0</td>\n",
       "      <td>0.0</td>\n",
       "      <td>0.0</td>\n",
       "      <td>0.0</td>\n",
       "      <td>0.0</td>\n",
       "      <td>0.0</td>\n",
       "      <td>NaN</td>\n",
       "      <td>production</td>\n",
       "      <td>OP</td>\n",
       "    </tr>\n",
       "    <tr>\n",
       "      <th>748</th>\n",
       "      <td>2013-07-10</td>\n",
       "      <td>NO 15/9-F-11 H</td>\n",
       "      <td>7078</td>\n",
       "      <td>15/9-F-11</td>\n",
       "      <td>3420717</td>\n",
       "      <td>VOLVE</td>\n",
       "      <td>369304</td>\n",
       "      <td>MÆRSK INSPIRER</td>\n",
       "      <td>0.0</td>\n",
       "      <td>NaN</td>\n",
       "      <td>NaN</td>\n",
       "      <td>NaN</td>\n",
       "      <td>NaN</td>\n",
       "      <td>NaN</td>\n",
       "      <td>%</td>\n",
       "      <td>NaN</td>\n",
       "      <td>NaN</td>\n",
       "      <td>NaN</td>\n",
       "      <td>0.0</td>\n",
       "      <td>0.0</td>\n",
       "      <td>0.0</td>\n",
       "      <td>NaN</td>\n",
       "      <td>production</td>\n",
       "      <td>OP</td>\n",
       "    </tr>\n",
       "    <tr>\n",
       "      <th>749</th>\n",
       "      <td>2013-07-11</td>\n",
       "      <td>NO 15/9-F-11 H</td>\n",
       "      <td>7078</td>\n",
       "      <td>15/9-F-11</td>\n",
       "      <td>3420717</td>\n",
       "      <td>VOLVE</td>\n",
       "      <td>369304</td>\n",
       "      <td>MÆRSK INSPIRER</td>\n",
       "      <td>0.0</td>\n",
       "      <td>0.0</td>\n",
       "      <td>0.0</td>\n",
       "      <td>0.0</td>\n",
       "      <td>0.0</td>\n",
       "      <td>0.0</td>\n",
       "      <td>%</td>\n",
       "      <td>0.0</td>\n",
       "      <td>0.0</td>\n",
       "      <td>0.0</td>\n",
       "      <td>0.0</td>\n",
       "      <td>0.0</td>\n",
       "      <td>0.0</td>\n",
       "      <td>NaN</td>\n",
       "      <td>production</td>\n",
       "      <td>OP</td>\n",
       "    </tr>\n",
       "    <tr>\n",
       "      <th>750</th>\n",
       "      <td>2013-07-12</td>\n",
       "      <td>NO 15/9-F-11 H</td>\n",
       "      <td>7078</td>\n",
       "      <td>15/9-F-11</td>\n",
       "      <td>3420717</td>\n",
       "      <td>VOLVE</td>\n",
       "      <td>369304</td>\n",
       "      <td>MÆRSK INSPIRER</td>\n",
       "      <td>0.0</td>\n",
       "      <td>NaN</td>\n",
       "      <td>NaN</td>\n",
       "      <td>NaN</td>\n",
       "      <td>NaN</td>\n",
       "      <td>NaN</td>\n",
       "      <td>%</td>\n",
       "      <td>NaN</td>\n",
       "      <td>NaN</td>\n",
       "      <td>NaN</td>\n",
       "      <td>0.0</td>\n",
       "      <td>0.0</td>\n",
       "      <td>0.0</td>\n",
       "      <td>NaN</td>\n",
       "      <td>production</td>\n",
       "      <td>OP</td>\n",
       "    </tr>\n",
       "  </tbody>\n",
       "</table>\n",
       "</div>"
      ],
      "text/plain": [
       "          date         well_id  well_name_code  ... water_inj   flow_kind well_type\n",
       "746 2013-07-08  NO 15/9-F-11 H            7078  ...       NaN  production        OP\n",
       "747 2013-07-09  NO 15/9-F-11 H            7078  ...       NaN  production        OP\n",
       "748 2013-07-10  NO 15/9-F-11 H            7078  ...       NaN  production        OP\n",
       "749 2013-07-11  NO 15/9-F-11 H            7078  ...       NaN  production        OP\n",
       "750 2013-07-12  NO 15/9-F-11 H            7078  ...       NaN  production        OP\n",
       "\n",
       "[5 rows x 24 columns]"
      ]
     },
     "execution_count": 11,
     "metadata": {},
     "output_type": "execute_result"
    }
   ],
   "source": [
    "df.head()"
   ]
  },
  {
   "cell_type": "markdown",
   "metadata": {
    "id": "cVgomjuJlOPe"
   },
   "source": [
    "Is the well used only for production?"
   ]
  },
  {
   "cell_type": "code",
   "execution_count": 12,
   "metadata": {
    "colab": {
     "base_uri": "https://localhost:8080/"
    },
    "id": "qHPpSCvBcZTU",
    "outputId": "ee5e5990-8ba4-43dc-fe42-dcc6959576d9",
    "scrolled": true
   },
   "outputs": [
    {
     "data": {
      "text/plain": [
       "array(['production'], dtype=object)"
      ]
     },
     "execution_count": 12,
     "metadata": {},
     "output_type": "execute_result"
    }
   ],
   "source": [
    "df.flow_kind.unique()"
   ]
  },
  {
   "cell_type": "markdown",
   "metadata": {
    "id": "P4oe50pGlOPf"
   },
   "source": [
    "### Data cleaning\n",
    "In this section the unnecessary columns and the rows with nan or 0 values in bhp columns are removed. "
   ]
  },
  {
   "cell_type": "code",
   "execution_count": 13,
   "metadata": {
    "id": "YXnrse_eU0Y-"
   },
   "outputs": [],
   "source": [
    "columns_to_drop = ['well_id', 'well_name_code', \"on_stream_hours\",\n",
    "                   'field_code', 'field_name', 'facility_code', 'facility_name', 'choke_units', \n",
    "                   'choke_size', 'flow_kind', 'well_type', 'water_inj',\"well_name\",\"bht\",\"dp_tubing\"]\n",
    "df = df.drop(columns_to_drop, axis=1)"
   ]
  },
  {
   "cell_type": "code",
   "execution_count": 14,
   "metadata": {
    "colab": {
     "base_uri": "https://localhost:8080/",
     "height": 417
    },
    "id": "KzIr7xJ-U1-W",
    "outputId": "e4cf1b43-6459-4404-dac7-28dc59b11ed2"
   },
   "outputs": [
    {
     "data": {
      "text/html": [
       "<div>\n",
       "<style scoped>\n",
       "    .dataframe tbody tr th:only-of-type {\n",
       "        vertical-align: middle;\n",
       "    }\n",
       "\n",
       "    .dataframe tbody tr th {\n",
       "        vertical-align: top;\n",
       "    }\n",
       "\n",
       "    .dataframe thead th {\n",
       "        text-align: right;\n",
       "    }\n",
       "</style>\n",
       "<table border=\"1\" class=\"dataframe\">\n",
       "  <thead>\n",
       "    <tr style=\"text-align: right;\">\n",
       "      <th></th>\n",
       "      <th>date</th>\n",
       "      <th>bhp</th>\n",
       "      <th>casing_pressure</th>\n",
       "      <th>whp</th>\n",
       "      <th>wht</th>\n",
       "      <th>choke_size_percentage</th>\n",
       "      <th>oil_vol</th>\n",
       "      <th>gas_vol</th>\n",
       "      <th>water_vol</th>\n",
       "    </tr>\n",
       "  </thead>\n",
       "  <tbody>\n",
       "    <tr>\n",
       "      <th>746</th>\n",
       "      <td>2013-07-08</td>\n",
       "      <td>0.000000</td>\n",
       "      <td>0.000000</td>\n",
       "      <td>0.000000</td>\n",
       "      <td>0.000000</td>\n",
       "      <td>0.000000</td>\n",
       "      <td>0.00</td>\n",
       "      <td>0.00</td>\n",
       "      <td>0.00</td>\n",
       "    </tr>\n",
       "    <tr>\n",
       "      <th>747</th>\n",
       "      <td>2013-07-09</td>\n",
       "      <td>0.000000</td>\n",
       "      <td>0.000000</td>\n",
       "      <td>0.000000</td>\n",
       "      <td>0.000000</td>\n",
       "      <td>0.000000</td>\n",
       "      <td>0.00</td>\n",
       "      <td>0.00</td>\n",
       "      <td>0.00</td>\n",
       "    </tr>\n",
       "    <tr>\n",
       "      <th>748</th>\n",
       "      <td>2013-07-10</td>\n",
       "      <td>NaN</td>\n",
       "      <td>NaN</td>\n",
       "      <td>NaN</td>\n",
       "      <td>NaN</td>\n",
       "      <td>NaN</td>\n",
       "      <td>0.00</td>\n",
       "      <td>0.00</td>\n",
       "      <td>0.00</td>\n",
       "    </tr>\n",
       "    <tr>\n",
       "      <th>749</th>\n",
       "      <td>2013-07-11</td>\n",
       "      <td>0.000000</td>\n",
       "      <td>0.000000</td>\n",
       "      <td>0.000000</td>\n",
       "      <td>0.000000</td>\n",
       "      <td>0.000000</td>\n",
       "      <td>0.00</td>\n",
       "      <td>0.00</td>\n",
       "      <td>0.00</td>\n",
       "    </tr>\n",
       "    <tr>\n",
       "      <th>750</th>\n",
       "      <td>2013-07-12</td>\n",
       "      <td>NaN</td>\n",
       "      <td>NaN</td>\n",
       "      <td>NaN</td>\n",
       "      <td>NaN</td>\n",
       "      <td>NaN</td>\n",
       "      <td>0.00</td>\n",
       "      <td>0.00</td>\n",
       "      <td>0.00</td>\n",
       "    </tr>\n",
       "    <tr>\n",
       "      <th>...</th>\n",
       "      <td>...</td>\n",
       "      <td>...</td>\n",
       "      <td>...</td>\n",
       "      <td>...</td>\n",
       "      <td>...</td>\n",
       "      <td>...</td>\n",
       "      <td>...</td>\n",
       "      <td>...</td>\n",
       "      <td>...</td>\n",
       "    </tr>\n",
       "    <tr>\n",
       "      <th>1906</th>\n",
       "      <td>2016-09-13</td>\n",
       "      <td>253.399422</td>\n",
       "      <td>22.564198</td>\n",
       "      <td>26.998608</td>\n",
       "      <td>83.820656</td>\n",
       "      <td>3.504180</td>\n",
       "      <td>543.81</td>\n",
       "      <td>88042.16</td>\n",
       "      <td>3036.83</td>\n",
       "    </tr>\n",
       "    <tr>\n",
       "      <th>1907</th>\n",
       "      <td>2016-09-14</td>\n",
       "      <td>253.209915</td>\n",
       "      <td>22.720235</td>\n",
       "      <td>26.954532</td>\n",
       "      <td>84.779993</td>\n",
       "      <td>3.391195</td>\n",
       "      <td>541.88</td>\n",
       "      <td>90188.97</td>\n",
       "      <td>2963.49</td>\n",
       "    </tr>\n",
       "    <tr>\n",
       "      <th>1908</th>\n",
       "      <td>2016-09-15</td>\n",
       "      <td>252.938710</td>\n",
       "      <td>22.580877</td>\n",
       "      <td>26.902054</td>\n",
       "      <td>82.589448</td>\n",
       "      <td>3.411744</td>\n",
       "      <td>534.87</td>\n",
       "      <td>91890.07</td>\n",
       "      <td>2838.87</td>\n",
       "    </tr>\n",
       "    <tr>\n",
       "      <th>1909</th>\n",
       "      <td>2016-09-16</td>\n",
       "      <td>252.892344</td>\n",
       "      <td>22.570981</td>\n",
       "      <td>26.870053</td>\n",
       "      <td>83.607970</td>\n",
       "      <td>3.402087</td>\n",
       "      <td>530.27</td>\n",
       "      <td>91579.73</td>\n",
       "      <td>2802.75</td>\n",
       "    </tr>\n",
       "    <tr>\n",
       "      <th>1910</th>\n",
       "      <td>2016-09-17</td>\n",
       "      <td>253.546058</td>\n",
       "      <td>22.636336</td>\n",
       "      <td>27.464862</td>\n",
       "      <td>85.028862</td>\n",
       "      <td>4.191001</td>\n",
       "      <td>180.04</td>\n",
       "      <td>32165.98</td>\n",
       "      <td>896.59</td>\n",
       "    </tr>\n",
       "  </tbody>\n",
       "</table>\n",
       "<p>1165 rows × 9 columns</p>\n",
       "</div>"
      ],
      "text/plain": [
       "           date         bhp  casing_pressure  ...  oil_vol   gas_vol  water_vol\n",
       "746  2013-07-08    0.000000         0.000000  ...     0.00      0.00       0.00\n",
       "747  2013-07-09    0.000000         0.000000  ...     0.00      0.00       0.00\n",
       "748  2013-07-10         NaN              NaN  ...     0.00      0.00       0.00\n",
       "749  2013-07-11    0.000000         0.000000  ...     0.00      0.00       0.00\n",
       "750  2013-07-12         NaN              NaN  ...     0.00      0.00       0.00\n",
       "...         ...         ...              ...  ...      ...       ...        ...\n",
       "1906 2016-09-13  253.399422        22.564198  ...   543.81  88042.16    3036.83\n",
       "1907 2016-09-14  253.209915        22.720235  ...   541.88  90188.97    2963.49\n",
       "1908 2016-09-15  252.938710        22.580877  ...   534.87  91890.07    2838.87\n",
       "1909 2016-09-16  252.892344        22.570981  ...   530.27  91579.73    2802.75\n",
       "1910 2016-09-17  253.546058        22.636336  ...   180.04  32165.98     896.59\n",
       "\n",
       "[1165 rows x 9 columns]"
      ]
     },
     "execution_count": 14,
     "metadata": {},
     "output_type": "execute_result"
    }
   ],
   "source": [
    "df"
   ]
  },
  {
   "cell_type": "code",
   "execution_count": 15,
   "metadata": {
    "id": "mQpMQBA3U3Ke"
   },
   "outputs": [],
   "source": [
    "columns = ['bhp']\n",
    "\n",
    "df = df.replace(0, np.nan).dropna()"
   ]
  },
  {
   "cell_type": "markdown",
   "metadata": {
    "id": "gt0X56LjlOPh"
   },
   "source": [
    "The first and last 30 days are removed from the data in order to train a model that can generalize the behavior of the well better.  "
   ]
  },
  {
   "cell_type": "code",
   "execution_count": 16,
   "metadata": {
    "id": "JnAlQHeWU4hV"
   },
   "outputs": [],
   "source": [
    "df.drop(df.head(30).index,\n",
    "        inplace = True)\n",
    "df.drop(df.tail(30).index,\n",
    "        inplace = True)"
   ]
  },
  {
   "cell_type": "code",
   "execution_count": 17,
   "metadata": {
    "id": "97GAQzYWmJZO"
   },
   "outputs": [],
   "source": [
    "df['wc'] = df['water_vol']/(df['water_vol']+df['oil_vol'])"
   ]
  },
  {
   "cell_type": "markdown",
   "metadata": {
    "id": "PVaQa_0DlOPi"
   },
   "source": [
    "### Selection of input parameters\n"
   ]
  },
  {
   "cell_type": "code",
   "execution_count": 18,
   "metadata": {
    "colab": {
     "base_uri": "https://localhost:8080/",
     "height": 494
    },
    "id": "fM3UxMxNU5hY",
    "outputId": "5ced3bd2-bfc6-4e2f-d096-c15178101283"
   },
   "outputs": [
    {
     "data": {
      "text/plain": [
       "<Figure size 1800x900 with 0 Axes>"
      ]
     },
     "metadata": {},
     "output_type": "display_data"
    },
    {
     "data": {
      "image/png": "[encoded data removed]",
      "text/plain": [
       "<Figure size 720x576 with 8 Axes>"
      ]
     },
     "metadata": {
      "needs_background": "light"
     },
     "output_type": "display_data"
    }
   ],
   "source": [
    "plt.figure(figsize=(12,6),dpi=150)\n",
    "df.set_index('date')[['bhp', 'whp','choke_size_percentage','oil_vol','wht', 'gas_vol', 'water_vol','wc']].plot(subplots=True);"
   ]
  },
  {
   "cell_type": "code",
   "execution_count": 19,
   "metadata": {
    "colab": {
     "base_uri": "https://localhost:8080/",
     "height": 295
    },
    "id": "nd2pjhy3U7h4",
    "outputId": "60d03f0b-a535-415c-cede-191457fc2b11"
   },
   "outputs": [
    {
     "data": {
      "text/html": [
       "<div>\n",
       "<style scoped>\n",
       "    .dataframe tbody tr th:only-of-type {\n",
       "        vertical-align: middle;\n",
       "    }\n",
       "\n",
       "    .dataframe tbody tr th {\n",
       "        vertical-align: top;\n",
       "    }\n",
       "\n",
       "    .dataframe thead th {\n",
       "        text-align: right;\n",
       "    }\n",
       "</style>\n",
       "<table border=\"1\" class=\"dataframe\">\n",
       "  <thead>\n",
       "    <tr style=\"text-align: right;\">\n",
       "      <th></th>\n",
       "      <th>bhp</th>\n",
       "      <th>casing_pressure</th>\n",
       "      <th>whp</th>\n",
       "      <th>wht</th>\n",
       "      <th>choke_size_percentage</th>\n",
       "      <th>oil_vol</th>\n",
       "      <th>gas_vol</th>\n",
       "      <th>water_vol</th>\n",
       "      <th>wc</th>\n",
       "    </tr>\n",
       "  </thead>\n",
       "  <tbody>\n",
       "    <tr>\n",
       "      <th>count</th>\n",
       "      <td>1038.000000</td>\n",
       "      <td>1038.000000</td>\n",
       "      <td>1038.000000</td>\n",
       "      <td>1038.000000</td>\n",
       "      <td>1038.000000</td>\n",
       "      <td>1038.000000</td>\n",
       "      <td>1038.000000</td>\n",
       "      <td>1038.000000</td>\n",
       "      <td>1038.000000</td>\n",
       "    </tr>\n",
       "    <tr>\n",
       "      <th>mean</th>\n",
       "      <td>233.782292</td>\n",
       "      <td>19.080047</td>\n",
       "      <td>50.969690</td>\n",
       "      <td>70.495222</td>\n",
       "      <td>23.188636</td>\n",
       "      <td>1043.942659</td>\n",
       "      <td>158293.880751</td>\n",
       "      <td>968.529114</td>\n",
       "      <td>0.387826</td>\n",
       "    </tr>\n",
       "    <tr>\n",
       "      <th>std</th>\n",
       "      <td>17.815271</td>\n",
       "      <td>5.664258</td>\n",
       "      <td>18.381171</td>\n",
       "      <td>10.105799</td>\n",
       "      <td>17.391350</td>\n",
       "      <td>398.863491</td>\n",
       "      <td>57091.899215</td>\n",
       "      <td>917.650503</td>\n",
       "      <td>0.261968</td>\n",
       "    </tr>\n",
       "    <tr>\n",
       "      <th>min</th>\n",
       "      <td>199.780240</td>\n",
       "      <td>0.387155</td>\n",
       "      <td>24.303256</td>\n",
       "      <td>24.344386</td>\n",
       "      <td>2.498848</td>\n",
       "      <td>10.710000</td>\n",
       "      <td>1756.770000</td>\n",
       "      <td>6.930000</td>\n",
       "      <td>0.043566</td>\n",
       "    </tr>\n",
       "    <tr>\n",
       "      <th>25%</th>\n",
       "      <td>220.075748</td>\n",
       "      <td>14.632310</td>\n",
       "      <td>31.760136</td>\n",
       "      <td>64.555488</td>\n",
       "      <td>4.735091</td>\n",
       "      <td>829.315000</td>\n",
       "      <td>131380.075000</td>\n",
       "      <td>168.762500</td>\n",
       "      <td>0.150723</td>\n",
       "    </tr>\n",
       "    <tr>\n",
       "      <th>50%</th>\n",
       "      <td>227.290696</td>\n",
       "      <td>20.048032</td>\n",
       "      <td>50.804181</td>\n",
       "      <td>69.930946</td>\n",
       "      <td>21.579340</td>\n",
       "      <td>1109.165000</td>\n",
       "      <td>167824.930000</td>\n",
       "      <td>560.980000</td>\n",
       "      <td>0.308496</td>\n",
       "    </tr>\n",
       "    <tr>\n",
       "      <th>75%</th>\n",
       "      <td>248.954607</td>\n",
       "      <td>22.726987</td>\n",
       "      <td>68.505312</td>\n",
       "      <td>78.588066</td>\n",
       "      <td>39.969946</td>\n",
       "      <td>1247.007500</td>\n",
       "      <td>189647.815000</td>\n",
       "      <td>1991.007500</td>\n",
       "      <td>0.624517</td>\n",
       "    </tr>\n",
       "    <tr>\n",
       "      <th>max</th>\n",
       "      <td>296.354607</td>\n",
       "      <td>29.532314</td>\n",
       "      <td>100.987635</td>\n",
       "      <td>84.489466</td>\n",
       "      <td>72.645816</td>\n",
       "      <td>2064.610000</td>\n",
       "      <td>300167.590000</td>\n",
       "      <td>3559.670000</td>\n",
       "      <td>0.910066</td>\n",
       "    </tr>\n",
       "  </tbody>\n",
       "</table>\n",
       "</div>"
      ],
      "text/plain": [
       "               bhp  casing_pressure  ...    water_vol           wc\n",
       "count  1038.000000      1038.000000  ...  1038.000000  1038.000000\n",
       "mean    233.782292        19.080047  ...   968.529114     0.387826\n",
       "std      17.815271         5.664258  ...   917.650503     0.261968\n",
       "min     199.780240         0.387155  ...     6.930000     0.043566\n",
       "25%     220.075748        14.632310  ...   168.762500     0.150723\n",
       "50%     227.290696        20.048032  ...   560.980000     0.308496\n",
       "75%     248.954607        22.726987  ...  1991.007500     0.624517\n",
       "max     296.354607        29.532314  ...  3559.670000     0.910066\n",
       "\n",
       "[8 rows x 9 columns]"
      ]
     },
     "execution_count": 19,
     "metadata": {},
     "output_type": "execute_result"
    }
   ],
   "source": [
    "df.describe()"
   ]
  },
  {
   "cell_type": "markdown",
   "metadata": {
    "id": "szetLZOjlOPj"
   },
   "source": [
    "#### Correlation\n"
   ]
  },
  {
   "cell_type": "code",
   "execution_count": 20,
   "metadata": {
    "colab": {
     "base_uri": "https://localhost:8080/",
     "height": 675
    },
    "id": "Y_JiETBwwB__",
    "outputId": "1e48378d-5b4c-4c28-b347-8ecf3c07b6e8"
   },
   "outputs": [
    {
     "data": {
      "text/plain": [
       "<matplotlib.axes._subplots.AxesSubplot at 0x7fb67d026f50>"
      ]
     },
     "execution_count": 20,
     "metadata": {},
     "output_type": "execute_result"
    },
    {
     "data": {
      "image/png": "[encoded data removed]",
      "text/plain": [
       "<Figure size 792x648 with 2 Axes>"
      ]
     },
     "metadata": {},
     "output_type": "display_data"
    }
   ],
   "source": [
    "from string import ascii_letters\n",
    "\n",
    "sns.set_theme(style=\"white\")\n",
    "corr = df.corr()\n",
    "mask = np.triu(np.ones_like(corr, dtype=bool))\n",
    "f, ax = plt.subplots(figsize=(11, 9))\n",
    "cmap = sns.diverging_palette(230, 20, as_cmap=True)\n",
    "sns.heatmap(corr, mask=mask, cmap=cmap, vmax=.3, center=0,\n",
    "            square=True, linewidths=.5, cbar_kws={\"shrink\": .5})\n"
   ]
  },
  {
   "cell_type": "code",
   "execution_count": 21,
   "metadata": {
    "colab": {
     "base_uri": "https://localhost:8080/",
     "height": 326
    },
    "id": "GqeHrRg5wK53",
    "outputId": "5f1e986d-6923-4852-99dc-2997f65a2e04"
   },
   "outputs": [
    {
     "data": {
      "text/html": [
       "<div>\n",
       "<style scoped>\n",
       "    .dataframe tbody tr th:only-of-type {\n",
       "        vertical-align: middle;\n",
       "    }\n",
       "\n",
       "    .dataframe tbody tr th {\n",
       "        vertical-align: top;\n",
       "    }\n",
       "\n",
       "    .dataframe thead th {\n",
       "        text-align: right;\n",
       "    }\n",
       "</style>\n",
       "<table border=\"1\" class=\"dataframe\">\n",
       "  <thead>\n",
       "    <tr style=\"text-align: right;\">\n",
       "      <th></th>\n",
       "      <th>bhp</th>\n",
       "      <th>casing_pressure</th>\n",
       "      <th>whp</th>\n",
       "      <th>wht</th>\n",
       "      <th>choke_size_percentage</th>\n",
       "      <th>oil_vol</th>\n",
       "      <th>gas_vol</th>\n",
       "      <th>water_vol</th>\n",
       "      <th>wc</th>\n",
       "    </tr>\n",
       "  </thead>\n",
       "  <tbody>\n",
       "    <tr>\n",
       "      <th>bhp</th>\n",
       "      <td>1.000000</td>\n",
       "      <td>0.096127</td>\n",
       "      <td>0.392698</td>\n",
       "      <td>-0.448402</td>\n",
       "      <td>0.433052</td>\n",
       "      <td>-0.625757</td>\n",
       "      <td>-0.619106</td>\n",
       "      <td>0.006231</td>\n",
       "      <td>0.041215</td>\n",
       "    </tr>\n",
       "    <tr>\n",
       "      <th>casing_pressure</th>\n",
       "      <td>0.096127</td>\n",
       "      <td>1.000000</td>\n",
       "      <td>0.133901</td>\n",
       "      <td>-0.034527</td>\n",
       "      <td>0.146082</td>\n",
       "      <td>-0.084589</td>\n",
       "      <td>-0.090736</td>\n",
       "      <td>-0.159842</td>\n",
       "      <td>-0.188578</td>\n",
       "    </tr>\n",
       "    <tr>\n",
       "      <th>whp</th>\n",
       "      <td>0.392698</td>\n",
       "      <td>0.133901</td>\n",
       "      <td>1.000000</td>\n",
       "      <td>-0.887599</td>\n",
       "      <td>0.997585</td>\n",
       "      <td>0.123857</td>\n",
       "      <td>0.116832</td>\n",
       "      <td>-0.876242</td>\n",
       "      <td>-0.885762</td>\n",
       "    </tr>\n",
       "    <tr>\n",
       "      <th>wht</th>\n",
       "      <td>-0.448402</td>\n",
       "      <td>-0.034527</td>\n",
       "      <td>-0.887599</td>\n",
       "      <td>1.000000</td>\n",
       "      <td>-0.885107</td>\n",
       "      <td>0.151185</td>\n",
       "      <td>0.158243</td>\n",
       "      <td>0.795734</td>\n",
       "      <td>0.730728</td>\n",
       "    </tr>\n",
       "    <tr>\n",
       "      <th>choke_size_percentage</th>\n",
       "      <td>0.433052</td>\n",
       "      <td>0.146082</td>\n",
       "      <td>0.997585</td>\n",
       "      <td>-0.885107</td>\n",
       "      <td>1.000000</td>\n",
       "      <td>0.088578</td>\n",
       "      <td>0.082475</td>\n",
       "      <td>-0.854129</td>\n",
       "      <td>-0.865768</td>\n",
       "    </tr>\n",
       "    <tr>\n",
       "      <th>oil_vol</th>\n",
       "      <td>-0.625757</td>\n",
       "      <td>-0.084589</td>\n",
       "      <td>0.123857</td>\n",
       "      <td>0.151185</td>\n",
       "      <td>0.088578</td>\n",
       "      <td>1.000000</td>\n",
       "      <td>0.993817</td>\n",
       "      <td>-0.287958</td>\n",
       "      <td>-0.410885</td>\n",
       "    </tr>\n",
       "    <tr>\n",
       "      <th>gas_vol</th>\n",
       "      <td>-0.619106</td>\n",
       "      <td>-0.090736</td>\n",
       "      <td>0.116832</td>\n",
       "      <td>0.158243</td>\n",
       "      <td>0.082475</td>\n",
       "      <td>0.993817</td>\n",
       "      <td>1.000000</td>\n",
       "      <td>-0.271785</td>\n",
       "      <td>-0.399433</td>\n",
       "    </tr>\n",
       "    <tr>\n",
       "      <th>water_vol</th>\n",
       "      <td>0.006231</td>\n",
       "      <td>-0.159842</td>\n",
       "      <td>-0.876242</td>\n",
       "      <td>0.795734</td>\n",
       "      <td>-0.854129</td>\n",
       "      <td>-0.287958</td>\n",
       "      <td>-0.271785</td>\n",
       "      <td>1.000000</td>\n",
       "      <td>0.961563</td>\n",
       "    </tr>\n",
       "    <tr>\n",
       "      <th>wc</th>\n",
       "      <td>0.041215</td>\n",
       "      <td>-0.188578</td>\n",
       "      <td>-0.885762</td>\n",
       "      <td>0.730728</td>\n",
       "      <td>-0.865768</td>\n",
       "      <td>-0.410885</td>\n",
       "      <td>-0.399433</td>\n",
       "      <td>0.961563</td>\n",
       "      <td>1.000000</td>\n",
       "    </tr>\n",
       "  </tbody>\n",
       "</table>\n",
       "</div>"
      ],
      "text/plain": [
       "                            bhp  casing_pressure  ...  water_vol        wc\n",
       "bhp                    1.000000         0.096127  ...   0.006231  0.041215\n",
       "casing_pressure        0.096127         1.000000  ...  -0.159842 -0.188578\n",
       "whp                    0.392698         0.133901  ...  -0.876242 -0.885762\n",
       "wht                   -0.448402        -0.034527  ...   0.795734  0.730728\n",
       "choke_size_percentage  0.433052         0.146082  ...  -0.854129 -0.865768\n",
       "oil_vol               -0.625757        -0.084589  ...  -0.287958 -0.410885\n",
       "gas_vol               -0.619106        -0.090736  ...  -0.271785 -0.399433\n",
       "water_vol              0.006231        -0.159842  ...   1.000000  0.961563\n",
       "wc                     0.041215        -0.188578  ...   0.961563  1.000000\n",
       "\n",
       "[9 rows x 9 columns]"
      ]
     },
     "execution_count": 21,
     "metadata": {},
     "output_type": "execute_result"
    }
   ],
   "source": [
    "corr"
   ]
  },
  {
   "cell_type": "markdown",
   "metadata": {
    "id": "y_eOPY8GlOPk"
   },
   "source": [
    "### Splitting and scaling the data"
   ]
  },
  {
   "cell_type": "code",
   "execution_count": 22,
   "metadata": {
    "id": "UzPi2OauU_fH"
   },
   "outputs": [],
   "source": [
    "df_input=df[['bhp', 'whp','oil_vol','wht', 'gas_vol', 'casing_pressure','choke_size_percentage']]"
   ]
  },
  {
   "cell_type": "code",
   "execution_count": 23,
   "metadata": {
    "id": "KaXMv3dTVAb9"
   },
   "outputs": [],
   "source": [
    "scaler = MinMaxScaler()\n",
    "data_scaled = scaler.fit_transform(df_input)"
   ]
  },
  {
   "cell_type": "code",
   "execution_count": 24,
   "metadata": {
    "id": "VpKdhAXQVCY0"
   },
   "outputs": [],
   "source": [
    "features=data_scaled\n",
    "target=data_scaled[:,0]"
   ]
  },
  {
   "cell_type": "code",
   "execution_count": 25,
   "metadata": {
    "id": "eb15DXwQVEUq"
   },
   "outputs": [],
   "source": [
    "x_train, x_test, y_train, y_test = train_test_split(features, target, test_size=0.25, random_state=123, shuffle = False)"
   ]
  },
  {
   "cell_type": "code",
   "execution_count": 26,
   "metadata": {
    "colab": {
     "base_uri": "https://localhost:8080/"
    },
    "id": "UufTalNUVFos",
    "outputId": "683d5f4d-53b2-4e42-d415-dd586faf48d5"
   },
   "outputs": [
    {
     "data": {
      "text/plain": [
       "(778, 7)"
      ]
     },
     "execution_count": 26,
     "metadata": {},
     "output_type": "execute_result"
    }
   ],
   "source": [
    "x_train.shape"
   ]
  },
  {
   "cell_type": "code",
   "execution_count": 27,
   "metadata": {
    "colab": {
     "base_uri": "https://localhost:8080/"
    },
    "id": "OGr2R0amVGYF",
    "outputId": "36c6ea20-9b6d-4d6a-de2c-8efd4ba0e375"
   },
   "outputs": [
    {
     "data": {
      "text/plain": [
       "(260, 7)"
      ]
     },
     "execution_count": 27,
     "metadata": {},
     "output_type": "execute_result"
    }
   ],
   "source": [
    "x_test.shape"
   ]
  },
  {
   "cell_type": "markdown",
   "metadata": {
    "id": "xg35n16mlOPn"
   },
   "source": [
    "### Implementing LSTM"
   ]
  },
  {
   "cell_type": "code",
   "execution_count": 28,
   "metadata": {
    "id": "hoqASwlVVHMf"
   },
   "outputs": [],
   "source": [
    "win_length=1\n",
    "batch_size=8\n",
    "num_features=7\n",
    "train_generator = tf.keras.preprocessing.sequence.TimeseriesGenerator(x_train, y_train, length=win_length, sampling_rate=1, batch_size=batch_size)\n",
    "test_generator = tf.keras.preprocessing.sequence.TimeseriesGenerator(x_test, y_test, length=win_length, sampling_rate=1, batch_size=batch_size)"
   ]
  },
  {
   "cell_type": "code",
   "execution_count": 29,
   "metadata": {
    "colab": {
     "base_uri": "https://localhost:8080/"
    },
    "collapsed": true,
    "id": "S4Oi8t9eVH1R",
    "outputId": "8b40c8ca-f10f-4a54-a314-71ccaeed7f50"
   },
   "outputs": [
    {
     "data": {
      "text/plain": [
       "(array([[[0.63095737, 0.80767894, 0.54229028, 0.63501385, 0.57556703,\n",
       "          0.47231323, 0.78984602]],\n",
       " \n",
       "        [[0.63944009, 0.81017045, 0.1405862 , 0.63646707, 0.16012637,\n",
       "          0.48594285, 0.79485523]],\n",
       " \n",
       "        [[0.66467431, 0.79800288, 0.17981401, 0.47201989, 0.19386583,\n",
       "          0.06489648, 0.77803075]],\n",
       " \n",
       "        [[0.55201764, 0.7930827 , 0.5588831 , 0.59897259, 0.59553263,\n",
       "          0.36362701, 0.77182001]],\n",
       " \n",
       "        [[0.57364555, 0.78812298, 0.57658114, 0.61821513, 0.61314224,\n",
       "          0.48522629, 0.76641136]],\n",
       " \n",
       "        [[0.60614845, 0.78824964, 0.57706315, 0.60562309, 0.61278251,\n",
       "          0.50831629, 0.76657595]],\n",
       " \n",
       "        [[0.60544519, 0.78787645, 0.60292127, 0.59871467, 0.64107344,\n",
       "          0.5177674 , 0.76617935]],\n",
       " \n",
       "        [[0.60502303, 0.78736025, 0.60108574, 0.58837753, 0.64173052,\n",
       "          0.52439008, 0.76556025]]]),\n",
       " array([0.63944009, 0.66467431, 0.55201764, 0.57364555, 0.60614845,\n",
       "        0.60544519, 0.60502303, 0.6054461 ]))"
      ]
     },
     "execution_count": 29,
     "metadata": {},
     "output_type": "execute_result"
    }
   ],
   "source": [
    "train_generator[0]"
   ]
  },
  {
   "cell_type": "code",
   "execution_count": 30,
   "metadata": {
    "id": "wl-L0d2IVIv_"
   },
   "outputs": [],
   "source": [
    "model = tf.keras.Sequential()\n",
    "model.add(tf.keras.layers.LSTM(32, input_shape= (win_length, num_features), return_sequences=True))\n",
    "model.add(tf.keras.layers.LeakyReLU(alpha=0.3)) \n",
    "model.add(tf.keras.layers.LSTM(32, return_sequences=True))\n",
    "model.add(tf.keras.layers.LeakyReLU(alpha=0.4)) \n",
    "model.add(tf.keras.layers.Dropout(0.25)) \n",
    "model.add(tf.keras.layers.LSTM(20, return_sequences=False))\n",
    "model.add(tf.keras.layers.Dropout(0.25)) \n",
    "model.add(tf.keras.layers.Dense(1))"
   ]
  },
  {
   "cell_type": "code",
   "execution_count": 31,
   "metadata": {
    "colab": {
     "base_uri": "https://localhost:8080/"
    },
    "id": "N1hbbATxVKK2",
    "outputId": "b786d68d-e9c5-44ef-82cf-bfda4f94272d"
   },
   "outputs": [
    {
     "name": "stdout",
     "output_type": "stream",
     "text": [
      "Model: \"sequential\"\n",
      "_________________________________________________________________\n",
      "Layer (type)                 Output Shape              Param #   \n",
      "=================================================================\n",
      "lstm (LSTM)                  (None, 1, 32)             5120      \n",
      "_________________________________________________________________\n",
      "leaky_re_lu (LeakyReLU)      (None, 1, 32)             0         \n",
      "_________________________________________________________________\n",
      "lstm_1 (LSTM)                (None, 1, 32)             8320      \n",
      "_________________________________________________________________\n",
      "leaky_re_lu_1 (LeakyReLU)    (None, 1, 32)             0         \n",
      "_________________________________________________________________\n",
      "dropout (Dropout)            (None, 1, 32)             0         \n",
      "_________________________________________________________________\n",
      "lstm_2 (LSTM)                (None, 20)                4240      \n",
      "_________________________________________________________________\n",
      "dropout_1 (Dropout)          (None, 20)                0         \n",
      "_________________________________________________________________\n",
      "dense (Dense)                (None, 1)                 21        \n",
      "=================================================================\n",
      "Total params: 17,701\n",
      "Trainable params: 17,701\n",
      "Non-trainable params: 0\n",
      "_________________________________________________________________\n"
     ]
    }
   ],
   "source": [
    "model.summary()"
   ]
  },
  {
   "cell_type": "code",
   "execution_count": 32,
   "metadata": {
    "colab": {
     "base_uri": "https://localhost:8080/"
    },
    "id": "NSyArGOQVxVY",
    "outputId": "93889667-8ea7-4967-8000-4fcf1b66f5b5"
   },
   "outputs": [
    {
     "name": "stderr",
     "output_type": "stream",
     "text": [
      "/usr/local/lib/python3.7/dist-packages/keras/engine/training.py:1972: UserWarning: `Model.fit_generator` is deprecated and will be removed in a future version. Please use `Model.fit`, which supports generators.\n",
      "  warnings.warn('`Model.fit_generator` is deprecated and '\n"
     ]
    },
    {
     "name": "stdout",
     "output_type": "stream",
     "text": [
      "Epoch 1/50\n",
      "98/98 [==============================] - 9s 28ms/step - loss: 0.0911 - mean_absolute_error: 0.2175 - val_loss: 0.0554 - val_mean_absolute_error: 0.2031\n",
      "Epoch 2/50\n",
      "98/98 [==============================] - 1s 9ms/step - loss: 0.0357 - mean_absolute_error: 0.1317 - val_loss: 0.0485 - val_mean_absolute_error: 0.1899\n",
      "Epoch 3/50\n",
      "98/98 [==============================] - 1s 10ms/step - loss: 0.0290 - mean_absolute_error: 0.1152 - val_loss: 0.0442 - val_mean_absolute_error: 0.1867\n",
      "Epoch 4/50\n",
      "98/98 [==============================] - 1s 9ms/step - loss: 0.0159 - mean_absolute_error: 0.0815 - val_loss: 0.0289 - val_mean_absolute_error: 0.1512\n",
      "Epoch 5/50\n",
      "98/98 [==============================] - 1s 9ms/step - loss: 0.0110 - mean_absolute_error: 0.0690 - val_loss: 0.0240 - val_mean_absolute_error: 0.1375\n",
      "Epoch 6/50\n",
      "98/98 [==============================] - 1s 10ms/step - loss: 0.0117 - mean_absolute_error: 0.0705 - val_loss: 0.0236 - val_mean_absolute_error: 0.1372\n",
      "Epoch 7/50\n",
      "98/98 [==============================] - 1s 9ms/step - loss: 0.0102 - mean_absolute_error: 0.0680 - val_loss: 0.0229 - val_mean_absolute_error: 0.1344\n",
      "Epoch 8/50\n",
      "98/98 [==============================] - 1s 10ms/step - loss: 0.0103 - mean_absolute_error: 0.0648 - val_loss: 0.0253 - val_mean_absolute_error: 0.1429\n",
      "Epoch 9/50\n",
      "98/98 [==============================] - 1s 9ms/step - loss: 0.0112 - mean_absolute_error: 0.0674 - val_loss: 0.0241 - val_mean_absolute_error: 0.1394\n",
      "Epoch 10/50\n",
      "98/98 [==============================] - 1s 9ms/step - loss: 0.0091 - mean_absolute_error: 0.0607 - val_loss: 0.0249 - val_mean_absolute_error: 0.1407\n",
      "Epoch 11/50\n",
      "98/98 [==============================] - 1s 8ms/step - loss: 0.0092 - mean_absolute_error: 0.0603 - val_loss: 0.0231 - val_mean_absolute_error: 0.1357\n",
      "Epoch 12/50\n",
      "98/98 [==============================] - 1s 8ms/step - loss: 0.0095 - mean_absolute_error: 0.0625 - val_loss: 0.0219 - val_mean_absolute_error: 0.1327\n",
      "Epoch 13/50\n",
      "98/98 [==============================] - 1s 8ms/step - loss: 0.0098 - mean_absolute_error: 0.0624 - val_loss: 0.0228 - val_mean_absolute_error: 0.1364\n",
      "Epoch 14/50\n",
      "98/98 [==============================] - 1s 9ms/step - loss: 0.0101 - mean_absolute_error: 0.0617 - val_loss: 0.0219 - val_mean_absolute_error: 0.1331\n",
      "Epoch 15/50\n",
      "98/98 [==============================] - 1s 9ms/step - loss: 0.0093 - mean_absolute_error: 0.0609 - val_loss: 0.0195 - val_mean_absolute_error: 0.1253\n",
      "Epoch 16/50\n",
      "98/98 [==============================] - 1s 10ms/step - loss: 0.0080 - mean_absolute_error: 0.0559 - val_loss: 0.0210 - val_mean_absolute_error: 0.1290\n",
      "Epoch 17/50\n",
      "98/98 [==============================] - 1s 9ms/step - loss: 0.0089 - mean_absolute_error: 0.0598 - val_loss: 0.0188 - val_mean_absolute_error: 0.1236\n",
      "Epoch 18/50\n",
      "98/98 [==============================] - 1s 9ms/step - loss: 0.0067 - mean_absolute_error: 0.0525 - val_loss: 0.0185 - val_mean_absolute_error: 0.1207\n",
      "Epoch 19/50\n",
      "98/98 [==============================] - 1s 9ms/step - loss: 0.0092 - mean_absolute_error: 0.0579 - val_loss: 0.0189 - val_mean_absolute_error: 0.1240\n",
      "Epoch 20/50\n",
      "98/98 [==============================] - 1s 9ms/step - loss: 0.0086 - mean_absolute_error: 0.0581 - val_loss: 0.0186 - val_mean_absolute_error: 0.1226\n",
      "Epoch 21/50\n",
      "98/98 [==============================] - 1s 8ms/step - loss: 0.0087 - mean_absolute_error: 0.0562 - val_loss: 0.0154 - val_mean_absolute_error: 0.1112\n",
      "Epoch 22/50\n",
      "98/98 [==============================] - 1s 9ms/step - loss: 0.0084 - mean_absolute_error: 0.0547 - val_loss: 0.0137 - val_mean_absolute_error: 0.1061\n",
      "Epoch 23/50\n",
      "98/98 [==============================] - 1s 9ms/step - loss: 0.0071 - mean_absolute_error: 0.0523 - val_loss: 0.0124 - val_mean_absolute_error: 0.0995\n",
      "Epoch 24/50\n",
      "98/98 [==============================] - 1s 9ms/step - loss: 0.0067 - mean_absolute_error: 0.0507 - val_loss: 0.0120 - val_mean_absolute_error: 0.0976\n",
      "Epoch 25/50\n",
      "98/98 [==============================] - 1s 9ms/step - loss: 0.0078 - mean_absolute_error: 0.0531 - val_loss: 0.0139 - val_mean_absolute_error: 0.1053\n",
      "Epoch 26/50\n",
      "98/98 [==============================] - 1s 9ms/step - loss: 0.0082 - mean_absolute_error: 0.0546 - val_loss: 0.0106 - val_mean_absolute_error: 0.0919\n",
      "Epoch 27/50\n",
      "98/98 [==============================] - 1s 9ms/step - loss: 0.0072 - mean_absolute_error: 0.0519 - val_loss: 0.0083 - val_mean_absolute_error: 0.0805\n",
      "Epoch 28/50\n",
      "98/98 [==============================] - 1s 8ms/step - loss: 0.0071 - mean_absolute_error: 0.0488 - val_loss: 0.0098 - val_mean_absolute_error: 0.0885\n",
      "Epoch 29/50\n",
      "98/98 [==============================] - 1s 8ms/step - loss: 0.0064 - mean_absolute_error: 0.0478 - val_loss: 0.0080 - val_mean_absolute_error: 0.0780\n",
      "Epoch 30/50\n",
      "98/98 [==============================] - 1s 9ms/step - loss: 0.0077 - mean_absolute_error: 0.0511 - val_loss: 0.0077 - val_mean_absolute_error: 0.0781\n",
      "Epoch 31/50\n",
      "98/98 [==============================] - 1s 8ms/step - loss: 0.0061 - mean_absolute_error: 0.0454 - val_loss: 0.0065 - val_mean_absolute_error: 0.0695\n",
      "Epoch 32/50\n",
      "98/98 [==============================] - 1s 10ms/step - loss: 0.0066 - mean_absolute_error: 0.0472 - val_loss: 0.0063 - val_mean_absolute_error: 0.0691\n",
      "Epoch 33/50\n",
      "98/98 [==============================] - 1s 10ms/step - loss: 0.0069 - mean_absolute_error: 0.0478 - val_loss: 0.0051 - val_mean_absolute_error: 0.0610\n",
      "Epoch 34/50\n",
      "98/98 [==============================] - 1s 9ms/step - loss: 0.0062 - mean_absolute_error: 0.0446 - val_loss: 0.0037 - val_mean_absolute_error: 0.0501\n",
      "Epoch 35/50\n",
      "98/98 [==============================] - 1s 9ms/step - loss: 0.0057 - mean_absolute_error: 0.0423 - val_loss: 0.0038 - val_mean_absolute_error: 0.0498\n",
      "Epoch 36/50\n",
      "98/98 [==============================] - 1s 10ms/step - loss: 0.0065 - mean_absolute_error: 0.0455 - val_loss: 0.0033 - val_mean_absolute_error: 0.0459\n",
      "Epoch 37/50\n",
      "98/98 [==============================] - 1s 9ms/step - loss: 0.0060 - mean_absolute_error: 0.0420 - val_loss: 0.0036 - val_mean_absolute_error: 0.0485\n",
      "Epoch 38/50\n",
      "98/98 [==============================] - 1s 9ms/step - loss: 0.0066 - mean_absolute_error: 0.0487 - val_loss: 0.0024 - val_mean_absolute_error: 0.0367\n",
      "Epoch 39/50\n",
      "98/98 [==============================] - 1s 9ms/step - loss: 0.0056 - mean_absolute_error: 0.0437 - val_loss: 0.0031 - val_mean_absolute_error: 0.0443\n",
      "Epoch 40/50\n",
      "98/98 [==============================] - 1s 7ms/step - loss: 0.0061 - mean_absolute_error: 0.0467 - val_loss: 0.0036 - val_mean_absolute_error: 0.0487\n",
      "Epoch 41/50\n",
      "98/98 [==============================] - 1s 8ms/step - loss: 0.0062 - mean_absolute_error: 0.0473 - val_loss: 0.0018 - val_mean_absolute_error: 0.0288\n",
      "Epoch 42/50\n",
      "98/98 [==============================] - 1s 9ms/step - loss: 0.0055 - mean_absolute_error: 0.0423 - val_loss: 0.0029 - val_mean_absolute_error: 0.0426\n",
      "Epoch 43/50\n",
      "98/98 [==============================] - 1s 10ms/step - loss: 0.0062 - mean_absolute_error: 0.0476 - val_loss: 0.0027 - val_mean_absolute_error: 0.0404\n",
      "Epoch 44/50\n",
      "98/98 [==============================] - 1s 9ms/step - loss: 0.0067 - mean_absolute_error: 0.0510 - val_loss: 0.0018 - val_mean_absolute_error: 0.0292\n",
      "Epoch 45/50\n",
      "98/98 [==============================] - 1s 9ms/step - loss: 0.0053 - mean_absolute_error: 0.0414 - val_loss: 0.0032 - val_mean_absolute_error: 0.0454\n",
      "Epoch 46/50\n",
      "98/98 [==============================] - 1s 9ms/step - loss: 0.0063 - mean_absolute_error: 0.0488 - val_loss: 0.0015 - val_mean_absolute_error: 0.0240\n",
      "Epoch 47/50\n",
      "98/98 [==============================] - 1s 9ms/step - loss: 0.0050 - mean_absolute_error: 0.0408 - val_loss: 0.0018 - val_mean_absolute_error: 0.0307\n",
      "Epoch 48/50\n",
      "98/98 [==============================] - 1s 8ms/step - loss: 0.0061 - mean_absolute_error: 0.0471 - val_loss: 0.0015 - val_mean_absolute_error: 0.0235\n",
      "Epoch 49/50\n",
      "98/98 [==============================] - 1s 8ms/step - loss: 0.0053 - mean_absolute_error: 0.0427 - val_loss: 0.0015 - val_mean_absolute_error: 0.0256\n",
      "Epoch 50/50\n",
      "98/98 [==============================] - 1s 8ms/step - loss: 0.0055 - mean_absolute_error: 0.0444 - val_loss: 0.0013 - val_mean_absolute_error: 0.0191\n"
     ]
    }
   ],
   "source": [
    "early_stopping = tf.keras.callbacks.EarlyStopping(monitor='val_loss',\n",
    "                                                    patience=6,\n",
    "                                                    mode='min')\n",
    "\n",
    "model.compile(loss=tf.losses.MeanSquaredError(),\n",
    "              optimizer=tf.optimizers.Adam(),\n",
    "              metrics=[tf.metrics.MeanAbsoluteError()])\n",
    "\n",
    "history = model.fit_generator(train_generator, epochs=50,\n",
    "                    validation_data=test_generator,\n",
    "                    shuffle=False,\n",
    "                    callbacks=[early_stopping])"
   ]
  },
  {
   "cell_type": "code",
   "execution_count": 33,
   "metadata": {
    "colab": {
     "base_uri": "https://localhost:8080/"
    },
    "id": "Nfkxz8k5V7gb",
    "outputId": "00bd8eaf-5c99-4d75-864b-9cfb674569f7"
   },
   "outputs": [
    {
     "name": "stderr",
     "output_type": "stream",
     "text": [
      "/usr/local/lib/python3.7/dist-packages/keras/engine/training.py:2006: UserWarning: `Model.evaluate_generator` is deprecated and will be removed in a future version. Please use `Model.evaluate`, which supports generators.\n",
      "  warnings.warn('`Model.evaluate_generator` is deprecated and '\n"
     ]
    },
    {
     "data": {
      "text/plain": [
       "[0.0013187917647883296, 0.019056718796491623]"
      ]
     },
     "execution_count": 33,
     "metadata": {},
     "output_type": "execute_result"
    }
   ],
   "source": [
    "model.evaluate_generator(test_generator, verbose=0)  "
   ]
  },
  {
   "cell_type": "code",
   "execution_count": 34,
   "metadata": {
    "colab": {
     "base_uri": "https://localhost:8080/"
    },
    "id": "O7uhKSRKWbfw",
    "outputId": "170b1b19-a694-480c-b436-b3af7eb333fc"
   },
   "outputs": [
    {
     "name": "stderr",
     "output_type": "stream",
     "text": [
      "/usr/local/lib/python3.7/dist-packages/keras/engine/training.py:2035: UserWarning: `Model.predict_generator` is deprecated and will be removed in a future version. Please use `Model.predict`, which supports generators.\n",
      "  warnings.warn('`Model.predict_generator` is deprecated and '\n"
     ]
    }
   ],
   "source": [
    "predictions=model.predict_generator(test_generator)"
   ]
  },
  {
   "cell_type": "code",
   "execution_count": 35,
   "metadata": {
    "colab": {
     "base_uri": "https://localhost:8080/"
    },
    "id": "vdb2MGToWna9",
    "outputId": "ec61eb81-3d99-41e6-f216-e35e22d9acfa"
   },
   "outputs": [
    {
     "data": {
      "text/plain": [
       "array([[0.09971787, 0.57460441, 0.93132795, 0.60484342, 0.35700325,\n",
       "        0.02775442],\n",
       "       [0.10136448, 0.57210186, 0.89449862, 0.59765581, 0.35518205,\n",
       "        0.02657239],\n",
       "       [0.10144526, 0.57389844, 0.93137956, 0.60192988, 0.35608767,\n",
       "        0.02657977],\n",
       "       ...,\n",
       "       [0.03638817, 0.22858951, 0.99341241, 0.24810136, 0.7578218 ,\n",
       "        0.01281027],\n",
       "       [0.03657222, 0.22638882, 0.99411574, 0.24041732, 0.75861209,\n",
       "        0.01333444],\n",
       "       [0.03660419, 0.231243  , 0.99466069, 0.24721761, 0.75880845,\n",
       "        0.0131395 ]])"
      ]
     },
     "execution_count": 35,
     "metadata": {},
     "output_type": "execute_result"
    }
   ],
   "source": [
    "x_test[:,1:][win_length:]"
   ]
  },
  {
   "cell_type": "code",
   "execution_count": 36,
   "metadata": {
    "id": "Z1KFIdarWrh7"
   },
   "outputs": [],
   "source": [
    "df_pred=pd.concat([pd.DataFrame(predictions), pd.DataFrame(x_test[:,1:][win_length:])],axis=1)"
   ]
  },
  {
   "cell_type": "code",
   "execution_count": 37,
   "metadata": {
    "colab": {
     "base_uri": "https://localhost:8080/",
     "height": 417
    },
    "id": "LCwAn_MsWsfW",
    "outputId": "76ba9e67-8852-41e9-8531-b0ff2427b9eb"
   },
   "outputs": [
    {
     "data": {
      "text/html": [
       "<div>\n",
       "<style scoped>\n",
       "    .dataframe tbody tr th:only-of-type {\n",
       "        vertical-align: middle;\n",
       "    }\n",
       "\n",
       "    .dataframe tbody tr th {\n",
       "        vertical-align: top;\n",
       "    }\n",
       "\n",
       "    .dataframe thead th {\n",
       "        text-align: right;\n",
       "    }\n",
       "</style>\n",
       "<table border=\"1\" class=\"dataframe\">\n",
       "  <thead>\n",
       "    <tr style=\"text-align: right;\">\n",
       "      <th></th>\n",
       "      <th>0</th>\n",
       "      <th>0</th>\n",
       "      <th>1</th>\n",
       "      <th>2</th>\n",
       "      <th>3</th>\n",
       "      <th>4</th>\n",
       "      <th>5</th>\n",
       "    </tr>\n",
       "  </thead>\n",
       "  <tbody>\n",
       "    <tr>\n",
       "      <th>0</th>\n",
       "      <td>0.235743</td>\n",
       "      <td>0.099718</td>\n",
       "      <td>0.574604</td>\n",
       "      <td>0.931328</td>\n",
       "      <td>0.604843</td>\n",
       "      <td>0.357003</td>\n",
       "      <td>0.027754</td>\n",
       "    </tr>\n",
       "    <tr>\n",
       "      <th>1</th>\n",
       "      <td>0.236183</td>\n",
       "      <td>0.101364</td>\n",
       "      <td>0.572102</td>\n",
       "      <td>0.894499</td>\n",
       "      <td>0.597656</td>\n",
       "      <td>0.355182</td>\n",
       "      <td>0.026572</td>\n",
       "    </tr>\n",
       "    <tr>\n",
       "      <th>2</th>\n",
       "      <td>0.240420</td>\n",
       "      <td>0.101445</td>\n",
       "      <td>0.573898</td>\n",
       "      <td>0.931380</td>\n",
       "      <td>0.601930</td>\n",
       "      <td>0.356088</td>\n",
       "      <td>0.026580</td>\n",
       "    </tr>\n",
       "    <tr>\n",
       "      <th>3</th>\n",
       "      <td>0.240282</td>\n",
       "      <td>0.094921</td>\n",
       "      <td>0.563840</td>\n",
       "      <td>0.909791</td>\n",
       "      <td>0.618154</td>\n",
       "      <td>0.353736</td>\n",
       "      <td>0.028936</td>\n",
       "    </tr>\n",
       "    <tr>\n",
       "      <th>4</th>\n",
       "      <td>0.236404</td>\n",
       "      <td>0.095532</td>\n",
       "      <td>0.589386</td>\n",
       "      <td>0.879969</td>\n",
       "      <td>0.625176</td>\n",
       "      <td>0.352788</td>\n",
       "      <td>0.028407</td>\n",
       "    </tr>\n",
       "    <tr>\n",
       "      <th>...</th>\n",
       "      <td>...</td>\n",
       "      <td>...</td>\n",
       "      <td>...</td>\n",
       "      <td>...</td>\n",
       "      <td>...</td>\n",
       "      <td>...</td>\n",
       "      <td>...</td>\n",
       "    </tr>\n",
       "    <tr>\n",
       "      <th>254</th>\n",
       "      <td>0.540454</td>\n",
       "      <td>0.032958</td>\n",
       "      <td>0.216495</td>\n",
       "      <td>0.991747</td>\n",
       "      <td>0.232464</td>\n",
       "      <td>0.748933</td>\n",
       "      <td>0.010397</td>\n",
       "    </tr>\n",
       "    <tr>\n",
       "      <th>255</th>\n",
       "      <td>0.539231</td>\n",
       "      <td>0.034513</td>\n",
       "      <td>0.222723</td>\n",
       "      <td>0.993458</td>\n",
       "      <td>0.239965</td>\n",
       "      <td>0.755859</td>\n",
       "      <td>0.011480</td>\n",
       "    </tr>\n",
       "    <tr>\n",
       "      <th>256</th>\n",
       "      <td>0.537893</td>\n",
       "      <td>0.036388</td>\n",
       "      <td>0.228590</td>\n",
       "      <td>0.993412</td>\n",
       "      <td>0.248101</td>\n",
       "      <td>0.757822</td>\n",
       "      <td>0.012810</td>\n",
       "    </tr>\n",
       "    <tr>\n",
       "      <th>257</th>\n",
       "      <td>0.535597</td>\n",
       "      <td>0.036572</td>\n",
       "      <td>0.226389</td>\n",
       "      <td>0.994116</td>\n",
       "      <td>0.240417</td>\n",
       "      <td>0.758612</td>\n",
       "      <td>0.013334</td>\n",
       "    </tr>\n",
       "    <tr>\n",
       "      <th>258</th>\n",
       "      <td>0.535993</td>\n",
       "      <td>0.036604</td>\n",
       "      <td>0.231243</td>\n",
       "      <td>0.994661</td>\n",
       "      <td>0.247218</td>\n",
       "      <td>0.758808</td>\n",
       "      <td>0.013139</td>\n",
       "    </tr>\n",
       "  </tbody>\n",
       "</table>\n",
       "<p>259 rows × 7 columns</p>\n",
       "</div>"
      ],
      "text/plain": [
       "            0         0         1         2         3         4         5\n",
       "0    0.235743  0.099718  0.574604  0.931328  0.604843  0.357003  0.027754\n",
       "1    0.236183  0.101364  0.572102  0.894499  0.597656  0.355182  0.026572\n",
       "2    0.240420  0.101445  0.573898  0.931380  0.601930  0.356088  0.026580\n",
       "3    0.240282  0.094921  0.563840  0.909791  0.618154  0.353736  0.028936\n",
       "4    0.236404  0.095532  0.589386  0.879969  0.625176  0.352788  0.028407\n",
       "..        ...       ...       ...       ...       ...       ...       ...\n",
       "254  0.540454  0.032958  0.216495  0.991747  0.232464  0.748933  0.010397\n",
       "255  0.539231  0.034513  0.222723  0.993458  0.239965  0.755859  0.011480\n",
       "256  0.537893  0.036388  0.228590  0.993412  0.248101  0.757822  0.012810\n",
       "257  0.535597  0.036572  0.226389  0.994116  0.240417  0.758612  0.013334\n",
       "258  0.535993  0.036604  0.231243  0.994661  0.247218  0.758808  0.013139\n",
       "\n",
       "[259 rows x 7 columns]"
      ]
     },
     "execution_count": 37,
     "metadata": {},
     "output_type": "execute_result"
    }
   ],
   "source": [
    "df_pred"
   ]
  },
  {
   "cell_type": "code",
   "execution_count": 38,
   "metadata": {
    "id": "4E_eiLkrWtUs"
   },
   "outputs": [],
   "source": [
    "rev_trans=scaler.inverse_transform(df_pred)"
   ]
  },
  {
   "cell_type": "code",
   "execution_count": 39,
   "metadata": {
    "colab": {
     "base_uri": "https://localhost:8080/"
    },
    "id": "xLKwwcmvWuyu",
    "outputId": "c08e4300-fbd4-479a-891a-7823263ac2e3"
   },
   "outputs": [
    {
     "data": {
      "text/plain": [
       "array([[2.22546977e+02, 3.19500592e+01, 1.19089000e+03, ...,\n",
       "        1.82248590e+05, 1.07920715e+01, 4.44573687e+00],\n",
       "       [2.22589441e+02, 3.20763281e+01, 1.18575000e+03, ...,\n",
       "        1.80103730e+05, 1.07389923e+01, 4.36282104e+00],\n",
       "       [2.22998694e+02, 3.20825225e+01, 1.18944000e+03, ...,\n",
       "        1.81379160e+05, 1.07653869e+01, 4.36333813e+00],\n",
       "       ...,\n",
       "       [2.51726939e+02, 2.70936602e+01, 4.80210000e+02, ...,\n",
       "        7.57929000e+04, 2.24739917e+01, 3.39744958e+00],\n",
       "       [2.51505161e+02, 2.71077740e+01, 4.75690000e+02, ...,\n",
       "        7.34999000e+04, 2.24970250e+01, 3.43421833e+00],\n",
       "       [2.51543411e+02, 2.71102254e+01, 4.85660000e+02, ...,\n",
       "        7.55291800e+04, 2.25027479e+01, 3.42054396e+00]])"
      ]
     },
     "execution_count": 39,
     "metadata": {},
     "output_type": "execute_result"
    }
   ],
   "source": [
    "rev_trans"
   ]
  },
  {
   "cell_type": "code",
   "execution_count": 40,
   "metadata": {
    "id": "dNEDGVO3WvpM"
   },
   "outputs": [],
   "source": [
    "df_final=df_input[predictions.shape[0]*-1:]"
   ]
  },
  {
   "cell_type": "code",
   "execution_count": 41,
   "metadata": {
    "colab": {
     "base_uri": "https://localhost:8080/"
    },
    "id": "43TFJURIWxCN",
    "outputId": "fff73f7e-52ca-4e4f-bf52-02841612a7e3"
   },
   "outputs": [
    {
     "data": {
      "text/plain": [
       "bhp                      259\n",
       "whp                      259\n",
       "oil_vol                  259\n",
       "wht                      259\n",
       "gas_vol                  259\n",
       "casing_pressure          259\n",
       "choke_size_percentage    259\n",
       "dtype: int64"
      ]
     },
     "execution_count": 41,
     "metadata": {},
     "output_type": "execute_result"
    }
   ],
   "source": [
    "df_final.count()"
   ]
  },
  {
   "cell_type": "code",
   "execution_count": 42,
   "metadata": {
    "colab": {
     "base_uri": "https://localhost:8080/"
    },
    "id": "TMyqw1Y7Wx9V",
    "outputId": "dad88553-c748-42eb-ed46-eb7094b68c15"
   },
   "outputs": [
    {
     "name": "stderr",
     "output_type": "stream",
     "text": [
      "/usr/local/lib/python3.7/dist-packages/ipykernel_launcher.py:1: SettingWithCopyWarning: \n",
      "A value is trying to be set on a copy of a slice from a DataFrame.\n",
      "Try using .loc[row_indexer,col_indexer] = value instead\n",
      "\n",
      "See the caveats in the documentation: https://pandas.pydata.org/pandas-docs/stable/user_guide/indexing.html#returning-a-view-versus-a-copy\n",
      "  \"\"\"Entry point for launching an IPython kernel.\n"
     ]
    }
   ],
   "source": [
    "df_final['bhp_pred']=rev_trans[:,0]"
   ]
  },
  {
   "cell_type": "code",
   "execution_count": 43,
   "metadata": {
    "colab": {
     "base_uri": "https://localhost:8080/",
     "height": 417
    },
    "id": "p2SZFWSUWzhF",
    "outputId": "e05b330f-8ae5-4066-f3e6-f961ee37e7d6"
   },
   "outputs": [
    {
     "data": {
      "text/html": [
       "<div>\n",
       "<style scoped>\n",
       "    .dataframe tbody tr th:only-of-type {\n",
       "        vertical-align: middle;\n",
       "    }\n",
       "\n",
       "    .dataframe tbody tr th {\n",
       "        vertical-align: top;\n",
       "    }\n",
       "\n",
       "    .dataframe thead th {\n",
       "        text-align: right;\n",
       "    }\n",
       "</style>\n",
       "<table border=\"1\" class=\"dataframe\">\n",
       "  <thead>\n",
       "    <tr style=\"text-align: right;\">\n",
       "      <th></th>\n",
       "      <th>bhp</th>\n",
       "      <th>whp</th>\n",
       "      <th>oil_vol</th>\n",
       "      <th>wht</th>\n",
       "      <th>gas_vol</th>\n",
       "      <th>casing_pressure</th>\n",
       "      <th>choke_size_percentage</th>\n",
       "      <th>bhp_pred</th>\n",
       "    </tr>\n",
       "  </thead>\n",
       "  <tbody>\n",
       "    <tr>\n",
       "      <th>1619</th>\n",
       "      <td>220.418801</td>\n",
       "      <td>31.950059</td>\n",
       "      <td>1190.89</td>\n",
       "      <td>80.359180</td>\n",
       "      <td>182248.59</td>\n",
       "      <td>10.792071</td>\n",
       "      <td>4.445737</td>\n",
       "      <td>222.546977</td>\n",
       "    </tr>\n",
       "    <tr>\n",
       "      <th>1620</th>\n",
       "      <td>220.775706</td>\n",
       "      <td>32.076328</td>\n",
       "      <td>1185.75</td>\n",
       "      <td>78.144076</td>\n",
       "      <td>180103.73</td>\n",
       "      <td>10.738992</td>\n",
       "      <td>4.362821</td>\n",
       "      <td>222.589441</td>\n",
       "    </tr>\n",
       "    <tr>\n",
       "      <th>1621</th>\n",
       "      <td>220.900410</td>\n",
       "      <td>32.082523</td>\n",
       "      <td>1189.44</td>\n",
       "      <td>80.362284</td>\n",
       "      <td>181379.16</td>\n",
       "      <td>10.765387</td>\n",
       "      <td>4.363338</td>\n",
       "      <td>222.998694</td>\n",
       "    </tr>\n",
       "    <tr>\n",
       "      <th>1622</th>\n",
       "      <td>220.168261</td>\n",
       "      <td>31.582227</td>\n",
       "      <td>1168.78</td>\n",
       "      <td>79.063844</td>\n",
       "      <td>186220.51</td>\n",
       "      <td>10.696842</td>\n",
       "      <td>4.528616</td>\n",
       "      <td>222.985313</td>\n",
       "    </tr>\n",
       "    <tr>\n",
       "      <th>1623</th>\n",
       "      <td>220.518801</td>\n",
       "      <td>31.629061</td>\n",
       "      <td>1221.25</td>\n",
       "      <td>77.270164</td>\n",
       "      <td>188316.12</td>\n",
       "      <td>10.669214</td>\n",
       "      <td>4.491481</td>\n",
       "      <td>222.610853</td>\n",
       "    </tr>\n",
       "    <tr>\n",
       "      <th>...</th>\n",
       "      <td>...</td>\n",
       "      <td>...</td>\n",
       "      <td>...</td>\n",
       "      <td>...</td>\n",
       "      <td>...</td>\n",
       "      <td>...</td>\n",
       "      <td>...</td>\n",
       "      <td>...</td>\n",
       "    </tr>\n",
       "    <tr>\n",
       "      <th>1876</th>\n",
       "      <td>252.268780</td>\n",
       "      <td>26.830604</td>\n",
       "      <td>455.37</td>\n",
       "      <td>83.993083</td>\n",
       "      <td>71126.47</td>\n",
       "      <td>22.214919</td>\n",
       "      <td>3.228146</td>\n",
       "      <td>251.974217</td>\n",
       "    </tr>\n",
       "    <tr>\n",
       "      <th>1877</th>\n",
       "      <td>252.336416</td>\n",
       "      <td>26.949890</td>\n",
       "      <td>468.16</td>\n",
       "      <td>84.096001</td>\n",
       "      <td>73364.98</td>\n",
       "      <td>22.416780</td>\n",
       "      <td>3.304153</td>\n",
       "      <td>251.856173</td>\n",
       "    </tr>\n",
       "    <tr>\n",
       "      <th>1878</th>\n",
       "      <td>252.335916</td>\n",
       "      <td>27.093660</td>\n",
       "      <td>480.21</td>\n",
       "      <td>84.093255</td>\n",
       "      <td>75792.90</td>\n",
       "      <td>22.473992</td>\n",
       "      <td>3.397450</td>\n",
       "      <td>251.726939</td>\n",
       "    </tr>\n",
       "    <tr>\n",
       "      <th>1879</th>\n",
       "      <td>252.143567</td>\n",
       "      <td>27.107774</td>\n",
       "      <td>475.69</td>\n",
       "      <td>84.135556</td>\n",
       "      <td>73499.90</td>\n",
       "      <td>22.497025</td>\n",
       "      <td>3.434218</td>\n",
       "      <td>251.505161</td>\n",
       "    </tr>\n",
       "    <tr>\n",
       "      <th>1880</th>\n",
       "      <td>251.946385</td>\n",
       "      <td>27.110225</td>\n",
       "      <td>485.66</td>\n",
       "      <td>84.168332</td>\n",
       "      <td>75529.18</td>\n",
       "      <td>22.502748</td>\n",
       "      <td>3.420544</td>\n",
       "      <td>251.543411</td>\n",
       "    </tr>\n",
       "  </tbody>\n",
       "</table>\n",
       "<p>259 rows × 8 columns</p>\n",
       "</div>"
      ],
      "text/plain": [
       "             bhp        whp  ...  choke_size_percentage    bhp_pred\n",
       "1619  220.418801  31.950059  ...               4.445737  222.546977\n",
       "1620  220.775706  32.076328  ...               4.362821  222.589441\n",
       "1621  220.900410  32.082523  ...               4.363338  222.998694\n",
       "1622  220.168261  31.582227  ...               4.528616  222.985313\n",
       "1623  220.518801  31.629061  ...               4.491481  222.610853\n",
       "...          ...        ...  ...                    ...         ...\n",
       "1876  252.268780  26.830604  ...               3.228146  251.974217\n",
       "1877  252.336416  26.949890  ...               3.304153  251.856173\n",
       "1878  252.335916  27.093660  ...               3.397450  251.726939\n",
       "1879  252.143567  27.107774  ...               3.434218  251.505161\n",
       "1880  251.946385  27.110225  ...               3.420544  251.543411\n",
       "\n",
       "[259 rows x 8 columns]"
      ]
     },
     "execution_count": 43,
     "metadata": {},
     "output_type": "execute_result"
    }
   ],
   "source": [
    "df_final"
   ]
  },
  {
   "cell_type": "markdown",
   "metadata": {
    "id": "n-CVWxHWlOPr"
   },
   "source": [
    "### Visualization of the result"
   ]
  },
  {
   "cell_type": "markdown",
   "metadata": {
    "id": "zKLGkXt1cu-a"
   },
   "source": [
    "Comparison of real vs predicted bottom hole pressure values"
   ]
  },
  {
   "cell_type": "code",
   "execution_count": 44,
   "metadata": {
    "colab": {
     "base_uri": "https://localhost:8080/",
     "height": 505
    },
    "id": "0sXT5xkVJTcZ",
    "outputId": "9bc46ca4-3855-4654-b013-58a6942b5d71"
   },
   "outputs": [
    {
     "data": {
      "text/plain": [
       "<Figure size 1800x900 with 0 Axes>"
      ]
     },
     "metadata": {},
     "output_type": "display_data"
    },
    {
     "data": {
      "image/png": "[encoded data removed]",
      "text/plain": [
       "<Figure size 720x576 with 1 Axes>"
      ]
     },
     "metadata": {},
     "output_type": "display_data"
    }
   ],
   "source": [
    "plt.figure(figsize=(12,6),dpi=150)\n",
    "df_final[['bhp','bhp_pred']].plot();"
   ]
  },
  {
   "cell_type": "code",
   "execution_count": 45,
   "metadata": {
    "colab": {
     "base_uri": "https://localhost:8080/",
     "height": 476
    },
    "id": "q4NdM7MJaBeY",
    "outputId": "d985dc34-a6c0-4e98-fa40-05f653813d6e"
   },
   "outputs": [
    {
     "data": {
      "text/plain": [
       "<Figure size 1800x900 with 0 Axes>"
      ]
     },
     "metadata": {},
     "output_type": "display_data"
    },
    {
     "data": {
      "image/png": "[encoded data removed]",
      "text/plain": [
       "<Figure size 720x576 with 7 Axes>"
      ]
     },
     "metadata": {},
     "output_type": "display_data"
    }
   ],
   "source": [
    "plt.figure(figsize=(12,6),dpi=150)\n",
    "df_final[['bhp','bhp_pred','whp','oil_vol','gas_vol','choke_size_percentage','casing_pressure']].plot(subplots=True);"
   ]
  }
 ],
 "metadata": {
  "colab": {
   "collapsed_sections": [],
   "name": "Volve (5).ipynb",
   "provenance": []
  },
  "kernelspec": {
   "display_name": "Python 3 (ipykernel)",
   "language": "python",
   "name": "python3"
  },
  "language_info": {
   "codemirror_mode": {
    "name": "ipython",
    "version": 3
   },
   "file_extension": ".py",
   "mimetype": "text/x-python",
   "name": "python",
   "nbconvert_exporter": "python",
   "pygments_lexer": "ipython3",
   "version": "3.7.11"
  }
 },
 "nbformat": 4,
 "nbformat_minor": 1
}
